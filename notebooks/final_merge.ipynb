{
 "cells": [
  {
   "cell_type": "code",
   "execution_count": 2,
   "id": "baf3ff12",
   "metadata": {},
   "outputs": [],
   "source": [
    "import pandas as pd\n",
    "\n",
    "movie_complete = pd.read_csv('/Users/Amin/Documents/GitHub/Movie_boxoffice_reviews/data/processed/movie_alt1.csv')\n",
    "movie_alt = pd.read_csv('/Users/Amin/Documents/GitHub/Movie_boxoffice_reviews/data/processed/movie_alt.csv')\n",
    "movie_alt.drop(columns=['imdb_title_id','Runtime'],inplace=True,)\n",
    "new_col = ['Title', 'Alternative Title','director','Year' ,'date_published','Worldwide_Lifetime_Gross', 'Domestic_Lifetime_Gross', 'Foreign_Lifetime_Gross', 'tomatometer_rating', 'tomatometer_count', 'tomato_audience_rating', 'tomato_audience_vote_count', 'imdb_avg_vote', 'imdb_total_votes', 'imdb_us_voters_rating', 'imdb_us_voters_votes', 'imdb_non_us_voters_rating', 'imdb_non_us_voters_votes', 'imdb_females_avg_vote', 'imdb_females_votes', 'imdb_males_avg_vote', 'imdb_males_votes', 'Metascore']\n",
    "movie_alt = movie_alt[new_col]\n",
    "movie_final = pd.concat([movie_complete,movie_alt])\n",
    "movie_final.drop(columns=['Unnamed: 0'],inplace=True,)\n",
    "movie_final.to_csv('/Users/Amin/Documents/GitHub/Movie_boxoffice_reviews/data/processed/movie_db_fianl1.csv')\n"
   ]
  },
  {
   "cell_type": "code",
   "execution_count": 4,
   "id": "1052060c",
   "metadata": {},
   "outputs": [
    {
     "name": "stdout",
     "output_type": "stream",
     "text": [
      "(3509, 23)\n"
     ]
    }
   ],
   "source": [
    "print(movie_final.shape)"
   ]
  },
  {
   "cell_type": "code",
   "execution_count": 8,
   "id": "f958e704",
   "metadata": {},
   "outputs": [
    {
     "name": "stdout",
     "output_type": "stream",
     "text": [
      "                                         Title  \\\n",
      "0                      The Mountain Between Us   \n",
      "1                                      Rampage   \n",
      "2  Valerian and the City of a Thousand Planets   \n",
      "\n",
      "                            Alternative Title        director  Year  \\\n",
      "0                        Il domani tra di noi  Hany Abu-Assad  2017   \n",
      "1                      Rampage: Furia animale     Brad Peyton  2018   \n",
      "2  Valerian e la citt��_��_ dei mille pianeti      Luc Besson  2017   \n",
      "\n",
      "  date_published  Worldwide_Lifetime_Gross  Domestic_Lifetime_Gross  \\\n",
      "0     2017-11-23                  62832209                 30348555   \n",
      "1     2018-04-12                 428028233                101028233   \n",
      "2     2017-09-21                 225973340                 41189488   \n",
      "\n",
      "   Foreign_Lifetime_Gross  tomatometer_rating  tomatometer_count  ...  \\\n",
      "0                32483654                  38                171  ...   \n",
      "1               327000000                  51                275  ...   \n",
      "2               184783852                  48                294  ...   \n",
      "\n",
      "   imdb_total_votes  imdb_us_voters_rating  imdb_us_voters_votes  \\\n",
      "0             64703                     64                  7520   \n",
      "1            137865                     61                 17163   \n",
      "2            157560                     63                 17690   \n",
      "\n",
      "   imdb_non_us_voters_rating  imdb_non_us_voters_votes  imdb_females_avg_vote  \\\n",
      "0                         63                     27997                     67   \n",
      "1                         60                     54731                     64   \n",
      "2                         64                     69287                     64   \n",
      "\n",
      "   imdb_females_votes  imdb_males_avg_vote  imdb_males_votes  Metascore  \n",
      "0               13462                   63             35093         48  \n",
      "1               13702                   60             84286         45  \n",
      "2               18118                   65             99701         51  \n",
      "\n",
      "[3 rows x 23 columns]\n"
     ]
    }
   ],
   "source": [
    "print(movie_final.head())"
   ]
  },
  {
   "cell_type": "code",
   "execution_count": 22,
   "id": "01edaece",
   "metadata": {},
   "outputs": [
    {
     "data": {
      "text/plain": [
       "Title                         object\n",
       "Alternative Title             object\n",
       "director                      object\n",
       "Year                           int64\n",
       "date_published                object\n",
       "Worldwide_Lifetime_Gross       int64\n",
       "Domestic_Lifetime_Gross        int64\n",
       "Foreign_Lifetime_Gross         int64\n",
       "tomatometer_rating             int64\n",
       "tomatometer_count              int64\n",
       "tomato_audience_rating         int64\n",
       "tomato_audience_vote_count     int64\n",
       "imdb_avg_vote                  int64\n",
       "imdb_total_votes               int64\n",
       "imdb_us_voters_rating          int64\n",
       "imdb_us_voters_votes           int64\n",
       "imdb_non_us_voters_rating      int64\n",
       "imdb_non_us_voters_votes       int64\n",
       "imdb_females_avg_vote          int64\n",
       "imdb_females_votes             int64\n",
       "imdb_males_avg_vote            int64\n",
       "imdb_males_votes               int64\n",
       "Metascore                      int64\n",
       "dtype: object"
      ]
     },
     "execution_count": 22,
     "metadata": {},
     "output_type": "execute_result"
    }
   ],
   "source": [
    "movie_final.dtypes"
   ]
  },
  {
   "cell_type": "code",
   "execution_count": 23,
   "id": "93356438",
   "metadata": {},
   "outputs": [
    {
     "data": {
      "text/plain": [
       "Title                         0\n",
       "Alternative Title             0\n",
       "director                      0\n",
       "Year                          0\n",
       "date_published                0\n",
       "Worldwide_Lifetime_Gross      0\n",
       "Domestic_Lifetime_Gross       0\n",
       "Foreign_Lifetime_Gross        0\n",
       "tomatometer_rating            0\n",
       "tomatometer_count             0\n",
       "tomato_audience_rating        0\n",
       "tomato_audience_vote_count    0\n",
       "imdb_avg_vote                 0\n",
       "imdb_total_votes              0\n",
       "imdb_us_voters_rating         0\n",
       "imdb_us_voters_votes          0\n",
       "imdb_non_us_voters_rating     0\n",
       "imdb_non_us_voters_votes      0\n",
       "imdb_females_avg_vote         0\n",
       "imdb_females_votes            0\n",
       "imdb_males_avg_vote           0\n",
       "imdb_males_votes              0\n",
       "Metascore                     0\n",
       "dtype: int64"
      ]
     },
     "execution_count": 23,
     "metadata": {},
     "output_type": "execute_result"
    }
   ],
   "source": [
    "movie_final.isna().sum()"
   ]
  },
  {
   "cell_type": "code",
   "execution_count": null,
   "id": "710ff274",
   "metadata": {},
   "outputs": [],
   "source": []
  }
 ],
 "metadata": {
  "kernelspec": {
   "display_name": "Python 3",
   "language": "python",
   "name": "python3"
  },
  "language_info": {
   "codemirror_mode": {
    "name": "ipython",
    "version": 3
   },
   "file_extension": ".py",
   "mimetype": "text/x-python",
   "name": "python",
   "nbconvert_exporter": "python",
   "pygments_lexer": "ipython3",
   "version": "3.8.8"
  }
 },
 "nbformat": 4,
 "nbformat_minor": 5
}
