{
 "cells": [
  {
   "cell_type": "markdown",
   "id": "73762ea2",
   "metadata": {},
   "source": [
    "# This is the final merge for all data from year 2010 to 2019 using the clean dataset of 4 source and show the charactristic of the final dataset"
   ]
  },
  {
   "cell_type": "code",
   "execution_count": 2,
   "id": "baf3ff12",
   "metadata": {},
   "outputs": [],
   "source": [
    "import pandas as pd\n",
    "\n",
    "#merging the movie_alt (for year 2019 which I used to test the merging validity) and movie_alt1 which is a clean data for 2010 to 2018\n",
    "movie_complete = pd.read_csv('/Users/Amin/Documents/GitHub/Movie_boxoffice_reviews/data/processed/movie_alt1.csv')\n",
    "movie_alt = pd.read_csv('/Users/Amin/Documents/GitHub/Movie_boxoffice_reviews/data/processed/movie_alt.csv')\n",
    "\n",
    "#drop unwanted columns\n",
    "movie_alt.drop(columns=['imdb_title_id','Runtime'],inplace=True,)\n",
    "\n",
    "#rearenge the columns for better visualization\n",
    "new_col = ['Title', 'Alternative Title','director','Year' ,'date_published','Worldwide_Lifetime_Gross', 'Domestic_Lifetime_Gross', 'Foreign_Lifetime_Gross', 'tomatometer_rating', 'tomatometer_count', 'tomato_audience_rating', 'tomato_audience_vote_count', 'imdb_avg_vote', 'imdb_total_votes', 'imdb_us_voters_rating', 'imdb_us_voters_votes', 'imdb_non_us_voters_rating', 'imdb_non_us_voters_votes', 'imdb_females_avg_vote', 'imdb_females_votes', 'imdb_males_avg_vote', 'imdb_males_votes', 'Metascore']\n",
    "movie_alt = movie_alt[new_col]\n",
    "\n",
    "#concate two dataframe\n",
    "movie_final = pd.concat([movie_complete,movie_alt])\n",
    "movie_final.drop(columns=['Unnamed: 0'],inplace=True,)\n",
    "\n",
    "#save the final data set and print the charactristic of the set\n",
    "movie_final.to_csv('/Users/Amin/Documents/GitHub/Movie_boxoffice_reviews/data/processed/movie_db_fianl1.csv')\n"
   ]
  },
  {
   "cell_type": "code",
   "execution_count": 4,
   "id": "1052060c",
   "metadata": {},
   "outputs": [
    {
     "name": "stdout",
     "output_type": "stream",
     "text": [
      "(3509, 23)\n"
     ]
    }
   ],
   "source": [
    "print(movie_final.shape)"
   ]
  },
  {
   "cell_type": "code",
   "execution_count": 9,
   "id": "265bff77",
   "metadata": {},
   "outputs": [
    {
     "name": "stdout",
     "output_type": "stream",
     "text": [
      "                                         Title  \\\n",
      "0                      The Mountain Between Us   \n",
      "1                                      Rampage   \n",
      "2  Valerian and the City of a Thousand Planets   \n",
      "3                                 The Forgiven   \n",
      "4                       Spider-Man: Homecoming   \n",
      "\n",
      "                            Alternative Title        director  Year  \\\n",
      "0                        Il domani tra di noi  Hany Abu-Assad  2017   \n",
      "1                      Rampage: Furia animale     Brad Peyton  2018   \n",
      "2  Valerian e la citt��_��_ dei mille pianeti      Luc Besson  2017   \n",
      "3      Condannato a combattere - The Forgiven    Roland Joffթ  2017   \n",
      "4                      Spider-Man: Homecoming       Jon Watts  2017   \n",
      "\n",
      "  date_published  Worldwide_Lifetime_Gross  Domestic_Lifetime_Gross  \\\n",
      "0     2017-11-23                  62832209                 30348555   \n",
      "1     2018-04-12                 428028233                101028233   \n",
      "2     2017-09-21                 225973340                 41189488   \n",
      "3     2018-03-09                     42213                        0   \n",
      "4     2017-07-06                 880166924                334201140   \n",
      "\n",
      "   Foreign_Lifetime_Gross  tomatometer_rating  tomatometer_count  ...  \\\n",
      "0                32483654                  38                171  ...   \n",
      "1               327000000                  51                275  ...   \n",
      "2               184783852                  48                294  ...   \n",
      "3                   42213                  52                 23  ...   \n",
      "4               545965784                  92                390  ...   \n",
      "\n",
      "   imdb_total_votes  imdb_us_voters_rating  imdb_us_voters_votes  \\\n",
      "0             64703                     64                  7520   \n",
      "1            137865                     61                 17163   \n",
      "2            157560                     63                 17690   \n",
      "3              1857                     59                   344   \n",
      "4            494060                     76                 57625   \n",
      "\n",
      "   imdb_non_us_voters_rating  imdb_non_us_voters_votes  imdb_females_avg_vote  \\\n",
      "0                         63                     27997                     67   \n",
      "1                         60                     54731                     64   \n",
      "2                         64                     69287                     64   \n",
      "3                         58                       746                     61   \n",
      "4                         73                    172006                     76   \n",
      "\n",
      "   imdb_females_votes  imdb_males_avg_vote  imdb_males_votes  Metascore  \n",
      "0               13462                   63             35093         48  \n",
      "1               13702                   60             84286         45  \n",
      "2               18118                   65             99701         51  \n",
      "3                 257                   58              1122         41  \n",
      "4               49874                   74            282567         73  \n",
      "\n",
      "[5 rows x 23 columns]\n"
     ]
    }
   ],
   "source": [
    "print(movie_final.head(5))"
   ]
  },
  {
   "cell_type": "code",
   "execution_count": 12,
   "id": "a5be8bb9",
   "metadata": {},
   "outputs": [
    {
     "name": "stdout",
     "output_type": "stream",
     "text": [
      "              Year  Worldwide_Lifetime_Gross  Domestic_Lifetime_Gross  \\\n",
      "count  3509.000000              3.509000e+03             3.509000e+03   \n",
      "mean   2014.812197              6.983294e+07             2.699284e+07   \n",
      "std       2.902111              1.868546e+08             6.780308e+07   \n",
      "min    2010.000000              1.770000e+02             0.000000e+00   \n",
      "25%    2012.000000              1.882420e+05             7.714000e+03   \n",
      "50%    2015.000000              2.980982e+06             3.361660e+05   \n",
      "75%    2017.000000              4.640367e+07             2.181935e+07   \n",
      "max    2019.000000              2.797501e+09             9.366622e+08   \n",
      "\n",
      "       Foreign_Lifetime_Gross  tomatometer_rating  tomatometer_count  \\\n",
      "count            3.509000e+03         3509.000000        3509.000000   \n",
      "mean             4.288294e+07           58.586777         108.740382   \n",
      "std              1.240045e+08           27.942617          95.532189   \n",
      "min              0.000000e+00            0.000000           1.000000   \n",
      "25%              6.245900e+04           36.000000          30.000000   \n",
      "50%              1.425098e+06           63.000000          80.000000   \n",
      "75%              2.008642e+07           83.000000         165.000000   \n",
      "max              1.939128e+09          100.000000         574.000000   \n",
      "\n",
      "       tomato_audience_rating  tomato_audience_vote_count  imdb_avg_vote  \\\n",
      "count             3509.000000                3.509000e+03    3509.000000   \n",
      "mean                56.012254                2.890696e+04      62.327729   \n",
      "std                 20.365450                7.735204e+04       9.008913   \n",
      "min                  0.000000                0.000000e+00      20.000000   \n",
      "25%                 41.000000                4.020000e+02      57.000000   \n",
      "50%                 56.000000                3.745000e+03      63.000000   \n",
      "75%                 72.000000                2.405200e+04      68.000000   \n",
      "max                100.000000                2.374219e+06      88.000000   \n",
      "\n",
      "       imdb_total_votes  imdb_us_voters_rating  imdb_us_voters_votes  \\\n",
      "count      3.509000e+03            3509.000000           3509.000000   \n",
      "mean       6.522977e+04              62.494728           8511.039042   \n",
      "std        1.319639e+05               9.084350          16124.311177   \n",
      "min        1.000000e+02              15.000000              2.000000   \n",
      "25%        3.281000e+03              57.000000            507.000000   \n",
      "50%        1.464100e+04              63.000000           2194.000000   \n",
      "75%        6.579400e+04              69.000000           9162.000000   \n",
      "max        2.002816e+06              94.000000         246718.000000   \n",
      "\n",
      "       imdb_non_us_voters_rating  imdb_non_us_voters_votes  \\\n",
      "count                3509.000000               3509.000000   \n",
      "mean                   61.442861              28751.415218   \n",
      "std                     9.215799              54646.400852   \n",
      "min                    19.000000                 19.000000   \n",
      "25%                    56.000000               1490.000000   \n",
      "50%                    62.000000               6940.000000   \n",
      "75%                    68.000000              31126.000000   \n",
      "max                    87.000000             799420.000000   \n",
      "\n",
      "       imdb_females_avg_vote  imdb_females_votes  imdb_males_avg_vote  \\\n",
      "count            3509.000000         3509.000000          3509.000000   \n",
      "mean               63.614135        10190.549444            61.730977   \n",
      "std                 8.900879        19878.384900             9.186526   \n",
      "min                15.000000            9.000000            20.000000   \n",
      "25%                58.000000          478.000000            56.000000   \n",
      "50%                64.000000         2420.000000            62.000000   \n",
      "75%                70.000000        10432.000000            68.000000   \n",
      "max                92.000000       278964.000000            88.000000   \n",
      "\n",
      "       imdb_males_votes    Metascore  \n",
      "count      3.509000e+03  3509.000000  \n",
      "mean       3.999704e+04    55.286406  \n",
      "std        8.063227e+04    17.466723  \n",
      "min        5.800000e+01     1.000000  \n",
      "25%        1.945000e+03    42.000000  \n",
      "50%        8.810000e+03    56.000000  \n",
      "75%        3.971500e+04    68.000000  \n",
      "max        1.202678e+06   100.000000  \n"
     ]
    }
   ],
   "source": [
    "print(movie_final.describe())"
   ]
  },
  {
   "cell_type": "code",
   "execution_count": 11,
   "id": "01edaece",
   "metadata": {},
   "outputs": [
    {
     "data": {
      "text/plain": [
       "Title                         object\n",
       "Alternative Title             object\n",
       "director                      object\n",
       "Year                           int64\n",
       "date_published                object\n",
       "Worldwide_Lifetime_Gross       int64\n",
       "Domestic_Lifetime_Gross        int64\n",
       "Foreign_Lifetime_Gross         int64\n",
       "tomatometer_rating             int64\n",
       "tomatometer_count              int64\n",
       "tomato_audience_rating         int64\n",
       "tomato_audience_vote_count     int64\n",
       "imdb_avg_vote                  int64\n",
       "imdb_total_votes               int64\n",
       "imdb_us_voters_rating          int64\n",
       "imdb_us_voters_votes           int64\n",
       "imdb_non_us_voters_rating      int64\n",
       "imdb_non_us_voters_votes       int64\n",
       "imdb_females_avg_vote          int64\n",
       "imdb_females_votes             int64\n",
       "imdb_males_avg_vote            int64\n",
       "imdb_males_votes               int64\n",
       "Metascore                      int64\n",
       "dtype: object"
      ]
     },
     "execution_count": 11,
     "metadata": {},
     "output_type": "execute_result"
    }
   ],
   "source": [
    "movie_final.dtypes"
   ]
  },
  {
   "cell_type": "code",
   "execution_count": 23,
   "id": "93356438",
   "metadata": {},
   "outputs": [
    {
     "data": {
      "text/plain": [
       "Title                         0\n",
       "Alternative Title             0\n",
       "director                      0\n",
       "Year                          0\n",
       "date_published                0\n",
       "Worldwide_Lifetime_Gross      0\n",
       "Domestic_Lifetime_Gross       0\n",
       "Foreign_Lifetime_Gross        0\n",
       "tomatometer_rating            0\n",
       "tomatometer_count             0\n",
       "tomato_audience_rating        0\n",
       "tomato_audience_vote_count    0\n",
       "imdb_avg_vote                 0\n",
       "imdb_total_votes              0\n",
       "imdb_us_voters_rating         0\n",
       "imdb_us_voters_votes          0\n",
       "imdb_non_us_voters_rating     0\n",
       "imdb_non_us_voters_votes      0\n",
       "imdb_females_avg_vote         0\n",
       "imdb_females_votes            0\n",
       "imdb_males_avg_vote           0\n",
       "imdb_males_votes              0\n",
       "Metascore                     0\n",
       "dtype: int64"
      ]
     },
     "execution_count": 23,
     "metadata": {},
     "output_type": "execute_result"
    }
   ],
   "source": [
    "movie_final.isna().sum()"
   ]
  },
  {
   "cell_type": "code",
   "execution_count": null,
   "id": "710ff274",
   "metadata": {},
   "outputs": [],
   "source": []
  }
 ],
 "metadata": {
  "kernelspec": {
   "display_name": "Python 3",
   "language": "python",
   "name": "python3"
  },
  "language_info": {
   "codemirror_mode": {
    "name": "ipython",
    "version": 3
   },
   "file_extension": ".py",
   "mimetype": "text/x-python",
   "name": "python",
   "nbconvert_exporter": "python",
   "pygments_lexer": "ipython3",
   "version": "3.8.8"
  }
 },
 "nbformat": 4,
 "nbformat_minor": 5
}
