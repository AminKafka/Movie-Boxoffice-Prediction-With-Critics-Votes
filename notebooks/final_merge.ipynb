{
 "cells": [
  {
   "cell_type": "code",
   "execution_count": 2,
   "id": "baf3ff12",
   "metadata": {},
   "outputs": [],
   "source": [
    "import pandas as pd\n",
    "\n",
    "movie_complete = pd.read_csv('/Users/Amin/Documents/GitHub/Movie_boxoffice_reviews/data/processed/movie_alt1.csv')\n",
    "movie_alt = pd.read_csv('/Users/Amin/Documents/GitHub/Movie_boxoffice_reviews/data/processed/movie_alt.csv')\n",
    "movie_alt.drop(columns=['imdb_title_id','Runtime'],inplace=True,)\n",
    "new_col = ['Title', 'Alternative Title','director','Year' ,'date_published','Worldwide_Lifetime_Gross', 'Domestic_Lifetime_Gross', 'Foreign_Lifetime_Gross', 'tomatometer_rating', 'tomatometer_count', 'tomato_audience_rating', 'tomato_audience_vote_count', 'imdb_avg_vote', 'imdb_total_votes', 'imdb_us_voters_rating', 'imdb_us_voters_votes', 'imdb_non_us_voters_rating', 'imdb_non_us_voters_votes', 'imdb_females_avg_vote', 'imdb_females_votes', 'imdb_males_avg_vote', 'imdb_males_votes', 'Metascore']\n",
    "movie_alt = movie_alt[new_col]\n",
    "movie_final = pd.concat([movie_complete,movie_alt])\n",
    "movie_final.drop(columns=['Unnamed: 0'],inplace=True,)\n",
    "movie_final.to_csv('/Users/Amin/Documents/GitHub/Movie_boxoffice_reviews/data/processed/movie_db_fianl1.csv')\n"
   ]
  },
  {
   "cell_type": "code",
   "execution_count": 4,
   "id": "1052060c",
   "metadata": {},
   "outputs": [
    {
     "name": "stdout",
     "output_type": "stream",
     "text": [
      "(3509, 23)\n"
     ]
    }
   ],
   "source": [
    "print(movie_final.shape)"
   ]
  },
  {
   "cell_type": "code",
   "execution_count": 9,
   "id": "8ff065c9",
   "metadata": {},
   "outputs": [
    {
     "name": "stdout",
     "output_type": "stream",
     "text": [
      "                                         Title  \\\n",
      "0                      The Mountain Between Us   \n",
      "1                                      Rampage   \n",
      "2  Valerian and the City of a Thousand Planets   \n",
      "3                                 The Forgiven   \n",
      "4                       Spider-Man: Homecoming   \n",
      "\n",
      "                            Alternative Title        director  Year  \\\n",
      "0                        Il domani tra di noi  Hany Abu-Assad  2017   \n",
      "1                      Rampage: Furia animale     Brad Peyton  2018   \n",
      "2  Valerian e la citt��_��_ dei mille pianeti      Luc Besson  2017   \n",
      "3      Condannato a combattere - The Forgiven    Roland Joffթ  2017   \n",
      "4                      Spider-Man: Homecoming       Jon Watts  2017   \n",
      "\n",
      "  date_published  Worldwide_Lifetime_Gross  Domestic_Lifetime_Gross  \\\n",
      "0     2017-11-23                  62832209                 30348555   \n",
      "1     2018-04-12                 428028233                101028233   \n",
      "2     2017-09-21                 225973340                 41189488   \n",
      "3     2018-03-09                     42213                        0   \n",
      "4     2017-07-06                 880166924                334201140   \n",
      "\n",
      "   Foreign_Lifetime_Gross  tomatometer_rating  tomatometer_count  ...  \\\n",
      "0                32483654                  38                171  ...   \n",
      "1               327000000                  51                275  ...   \n",
      "2               184783852                  48                294  ...   \n",
      "3                   42213                  52                 23  ...   \n",
      "4               545965784                  92                390  ...   \n",
      "\n",
      "   imdb_total_votes  imdb_us_voters_rating  imdb_us_voters_votes  \\\n",
      "0             64703                     64                  7520   \n",
      "1            137865                     61                 17163   \n",
      "2            157560                     63                 17690   \n",
      "3              1857                     59                   344   \n",
      "4            494060                     76                 57625   \n",
      "\n",
      "   imdb_non_us_voters_rating  imdb_non_us_voters_votes  imdb_females_avg_vote  \\\n",
      "0                         63                     27997                     67   \n",
      "1                         60                     54731                     64   \n",
      "2                         64                     69287                     64   \n",
      "3                         58                       746                     61   \n",
      "4                         73                    172006                     76   \n",
      "\n",
      "   imdb_females_votes  imdb_males_avg_vote  imdb_males_votes  Metascore  \n",
      "0               13462                   63             35093         48  \n",
      "1               13702                   60             84286         45  \n",
      "2               18118                   65             99701         51  \n",
      "3                 257                   58              1122         41  \n",
      "4               49874                   74            282567         73  \n",
      "\n",
      "[5 rows x 23 columns]\n"
     ]
    }
   ],
   "source": [
    "print(movie_final.head(5))"
   ]
  },
  {
   "cell_type": "code",
   "execution_count": 10,
   "id": "75819700",
   "metadata": {},
   "outputs": [
    {
     "name": "stdout",
     "output_type": "stream",
     "text": [
      "<bound method NDFrame.describe of                                             Title  \\\n",
      "0                         The Mountain Between Us   \n",
      "1                                         Rampage   \n",
      "2     Valerian and the City of a Thousand Planets   \n",
      "3                                    The Forgiven   \n",
      "4                          Spider-Man: Homecoming   \n",
      "...                                           ...   \n",
      "2184                                     The Land   \n",
      "2185                        The Eyes of My Mother   \n",
      "2186                                     Paterson   \n",
      "2187                Kingsglaive: Final Fantasy XV   \n",
      "2188                                     Blue Jay   \n",
      "\n",
      "                               Alternative Title          director  Year  \\\n",
      "0                           Il domani tra di noi    Hany Abu-Assad  2017   \n",
      "1                         Rampage: Furia animale       Brad Peyton  2018   \n",
      "2     Valerian e la citt��_��_ dei mille pianeti        Luc Besson  2017   \n",
      "3         Condannato a combattere - The Forgiven      Roland Joffթ  2017   \n",
      "4                         Spider-Man: Homecoming         Jon Watts  2017   \n",
      "...                                          ...               ...   ...   \n",
      "2184                                    The Land  Steven Caple Jr.  2016   \n",
      "2185                       The Eyes of My Mother     Nicolas Pesce  2016   \n",
      "2186                                    Paterson      Jim Jarmusch  2016   \n",
      "2187               Kingsglaive: Final Fantasy XV     Takeshi Nozue  2016   \n",
      "2188                                    Blue Jay      Alex Lehmann  2016   \n",
      "\n",
      "     date_published  Worldwide_Lifetime_Gross  Domestic_Lifetime_Gross  \\\n",
      "0        2017-11-23                  62832209                 30348555   \n",
      "1        2018-04-12                 428028233                101028233   \n",
      "2        2017-09-21                 225973340                 41189488   \n",
      "3        2018-03-09                     42213                        0   \n",
      "4        2017-07-06                 880166924                334201140   \n",
      "...             ...                       ...                      ...   \n",
      "2184     2016-08-04                     43756                    43756   \n",
      "2185     2016-12-02                     29539                    27099   \n",
      "2186     2016-12-29                   9588282                  2152738   \n",
      "2187     2016-07-09                   5725482                   269980   \n",
      "2188     2016-12-06                     21626                    21626   \n",
      "\n",
      "      Foreign_Lifetime_Gross  tomatometer_rating  tomatometer_count  ...  \\\n",
      "0                   32483654                  38                171  ...   \n",
      "1                  327000000                  51                275  ...   \n",
      "2                  184783852                  48                294  ...   \n",
      "3                      42213                  52                 23  ...   \n",
      "4                  545965784                  92                390  ...   \n",
      "...                      ...                 ...                ...  ...   \n",
      "2184                       0                  70                 20  ...   \n",
      "2185                    2440                  78                 99  ...   \n",
      "2186                 7435544                  96                258  ...   \n",
      "2187                 5455502                  12                 17  ...   \n",
      "2188                       0                  91                 32  ...   \n",
      "\n",
      "      imdb_total_votes  imdb_us_voters_rating  imdb_us_voters_votes  \\\n",
      "0                64703                     64                  7520   \n",
      "1               137865                     61                 17163   \n",
      "2               157560                     63                 17690   \n",
      "3                 1857                     59                   344   \n",
      "4               494060                     76                 57625   \n",
      "...                ...                    ...                   ...   \n",
      "2184              1598                     65                   408   \n",
      "2185             11061                     64                  2216   \n",
      "2186             67061                     74                  6722   \n",
      "2187             19672                     67                  1649   \n",
      "2188             13253                     73                  1723   \n",
      "\n",
      "      imdb_non_us_voters_rating  imdb_non_us_voters_votes  \\\n",
      "0                            63                     27997   \n",
      "1                            60                     54731   \n",
      "2                            64                     69287   \n",
      "3                            58                       746   \n",
      "4                            73                    172006   \n",
      "...                         ...                       ...   \n",
      "2184                         61                       511   \n",
      "2185                         61                      4750   \n",
      "2186                         73                     32860   \n",
      "2187                         67                      9283   \n",
      "2188                         72                      6018   \n",
      "\n",
      "      imdb_females_avg_vote  imdb_females_votes  imdb_males_avg_vote  \\\n",
      "0                        67               13462                   63   \n",
      "1                        64               13702                   60   \n",
      "2                        64               18118                   65   \n",
      "3                        61                 257                   58   \n",
      "4                        76               49874                   74   \n",
      "...                     ...                 ...                  ...   \n",
      "2184                     67                 165                   63   \n",
      "2185                     62                1589                   62   \n",
      "2186                     73               11073                   74   \n",
      "2187                     69                1248                   68   \n",
      "2188                     73                3433                   73   \n",
      "\n",
      "      imdb_males_votes  Metascore  \n",
      "0                35093         48  \n",
      "1                84286         45  \n",
      "2                99701         51  \n",
      "3                 1122         41  \n",
      "4               282567         73  \n",
      "...                ...        ...  \n",
      "2184              1037         50  \n",
      "2185              7011         63  \n",
      "2186             39370         90  \n",
      "2187             13868         35  \n",
      "2188              6544         69  \n",
      "\n",
      "[3509 rows x 23 columns]>\n"
     ]
    }
   ],
   "source": [
    "print(movie_final.describe)"
   ]
  },
  {
   "cell_type": "code",
   "execution_count": 22,
   "id": "01edaece",
   "metadata": {},
   "outputs": [
    {
     "data": {
      "text/plain": [
       "Title                         object\n",
       "Alternative Title             object\n",
       "director                      object\n",
       "Year                           int64\n",
       "date_published                object\n",
       "Worldwide_Lifetime_Gross       int64\n",
       "Domestic_Lifetime_Gross        int64\n",
       "Foreign_Lifetime_Gross         int64\n",
       "tomatometer_rating             int64\n",
       "tomatometer_count              int64\n",
       "tomato_audience_rating         int64\n",
       "tomato_audience_vote_count     int64\n",
       "imdb_avg_vote                  int64\n",
       "imdb_total_votes               int64\n",
       "imdb_us_voters_rating          int64\n",
       "imdb_us_voters_votes           int64\n",
       "imdb_non_us_voters_rating      int64\n",
       "imdb_non_us_voters_votes       int64\n",
       "imdb_females_avg_vote          int64\n",
       "imdb_females_votes             int64\n",
       "imdb_males_avg_vote            int64\n",
       "imdb_males_votes               int64\n",
       "Metascore                      int64\n",
       "dtype: object"
      ]
     },
     "execution_count": 22,
     "metadata": {},
     "output_type": "execute_result"
    }
   ],
   "source": [
    "movie_final.dtypes"
   ]
  },
  {
   "cell_type": "code",
   "execution_count": 23,
   "id": "93356438",
   "metadata": {},
   "outputs": [
    {
     "data": {
      "text/plain": [
       "Title                         0\n",
       "Alternative Title             0\n",
       "director                      0\n",
       "Year                          0\n",
       "date_published                0\n",
       "Worldwide_Lifetime_Gross      0\n",
       "Domestic_Lifetime_Gross       0\n",
       "Foreign_Lifetime_Gross        0\n",
       "tomatometer_rating            0\n",
       "tomatometer_count             0\n",
       "tomato_audience_rating        0\n",
       "tomato_audience_vote_count    0\n",
       "imdb_avg_vote                 0\n",
       "imdb_total_votes              0\n",
       "imdb_us_voters_rating         0\n",
       "imdb_us_voters_votes          0\n",
       "imdb_non_us_voters_rating     0\n",
       "imdb_non_us_voters_votes      0\n",
       "imdb_females_avg_vote         0\n",
       "imdb_females_votes            0\n",
       "imdb_males_avg_vote           0\n",
       "imdb_males_votes              0\n",
       "Metascore                     0\n",
       "dtype: int64"
      ]
     },
     "execution_count": 23,
     "metadata": {},
     "output_type": "execute_result"
    }
   ],
   "source": [
    "movie_final.isna().sum()"
   ]
  },
  {
   "cell_type": "code",
   "execution_count": null,
   "id": "710ff274",
   "metadata": {},
   "outputs": [],
   "source": []
  }
 ],
 "metadata": {
  "kernelspec": {
   "display_name": "Python 3",
   "language": "python",
   "name": "python3"
  },
  "language_info": {
   "codemirror_mode": {
    "name": "ipython",
    "version": 3
   },
   "file_extension": ".py",
   "mimetype": "text/x-python",
   "name": "python",
   "nbconvert_exporter": "python",
   "pygments_lexer": "ipython3",
   "version": "3.8.8"
  }
 },
 "nbformat": 4,
 "nbformat_minor": 5
}
