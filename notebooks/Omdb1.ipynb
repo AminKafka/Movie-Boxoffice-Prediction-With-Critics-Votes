{
 "cells": [
  {
   "cell_type": "code",
   "execution_count": 1,
   "id": "e09d3715",
   "metadata": {},
   "outputs": [],
   "source": [
    "import pandas as pd\n",
    "import requests\n",
    "\n",
    "df = pd.read_csv('../OMDb/IMDB_2019.csv')\n",
    "df_select = df[['imdb_title_id','year']]\n",
    "df_sort = df_select.sort_values('year',ignore_index=True,ascending=False)\n",
    "url = ('http://www.omdbapi.com/?i=tt2850272&apikey=e8935e9')\n",
    "r = requests.get(url)\n",
    "json_data = r.json()\n",
    "col = json_data.keys()\n",
    "df1 = pd.DataFrame(columns=col)\n",
    "id_list = df_sort['imdb_title_id'].tolist()\n",
    "for id in id_list:\n",
    "    url = ('http://www.omdbapi.com/?i='+id + '&apikey=e8935e9')\n",
    "    r = requests.get(url)\n",
    "    json_data = r.json()\n",
    "    df1 = df1.append(json_data, ignore_index=True)\n",
    "df1.head()\n",
    "df1.shape\n",
    "df1.to_csv('../OMDb/OMDB.csv')\n"
   ]
  },
  {
   "cell_type": "code",
   "execution_count": 1,
   "id": "61c720eb",
   "metadata": {},
   "outputs": [
    {
     "ename": "NameError",
     "evalue": "name 'df1' is not defined",
     "output_type": "error",
     "traceback": [
      "\u001b[0;31m---------------------------------------------------------------------------\u001b[0m",
      "\u001b[0;31mNameError\u001b[0m                                 Traceback (most recent call last)",
      "\u001b[0;32m<ipython-input-1-eda2b5cc1a42>\u001b[0m in \u001b[0;36m<module>\u001b[0;34m\u001b[0m\n\u001b[0;32m----> 1\u001b[0;31m \u001b[0mdf1\u001b[0m\u001b[0;34m.\u001b[0m\u001b[0mhead\u001b[0m\u001b[0;34m(\u001b[0m\u001b[0;34m)\u001b[0m\u001b[0;34m\u001b[0m\u001b[0;34m\u001b[0m\u001b[0m\n\u001b[0m",
      "\u001b[0;31mNameError\u001b[0m: name 'df1' is not defined"
     ]
    }
   ],
   "source": []
  },
  {
   "cell_type": "code",
   "execution_count": null,
   "id": "532a879f",
   "metadata": {},
   "outputs": [],
   "source": []
  },
  {
   "cell_type": "code",
   "execution_count": null,
   "id": "49d08bda",
   "metadata": {},
   "outputs": [],
   "source": []
  }
 ],
 "metadata": {
  "kernelspec": {
   "display_name": "Python 3",
   "language": "python",
   "name": "python3"
  },
  "language_info": {
   "codemirror_mode": {
    "name": "ipython",
    "version": 3
   },
   "file_extension": ".py",
   "mimetype": "text/x-python",
   "name": "python",
   "nbconvert_exporter": "python",
   "pygments_lexer": "ipython3",
   "version": "3.8.8"
  }
 },
 "nbformat": 4,
 "nbformat_minor": 5
}
