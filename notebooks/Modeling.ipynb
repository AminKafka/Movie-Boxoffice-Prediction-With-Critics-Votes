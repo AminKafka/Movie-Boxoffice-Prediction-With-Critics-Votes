{
 "cells": [
  {
   "cell_type": "markdown",
   "id": "9057b2a7",
   "metadata": {},
   "source": [
    "# Modeling:\n",
    "\n",
    "Amin Khoeini\n",
    "\n",
    "---\n",
    "\n",
    "As we see in the last step, Random Forest Regressor with the Hyperparameters that the GrideSearch pick, is the model with best R2 score and least mean absolute error.\n",
    "With the R2 of 0.63 and mae of 40 million dollar for the box-office, we can already assume that this model won't be able to get a perfect prediction of the box-office.\n",
    "Here I try to make the same model, train i ton train set, then use the test set to see the performance of the model for the diffrent class of film."
   ]
  },
  {
   "cell_type": "code",
   "execution_count": 1,
   "id": "19d26d9b",
   "metadata": {},
   "outputs": [],
   "source": [
    "#importing the necessary libraries\n",
    "import pandas as pd\n",
    "import numpy as np\n",
    "import matplotlib.pyplot as plt\n",
    "import seaborn as sns\n",
    "import sklearn\n",
    "from sklearn.model_selection import train_test_split, cross_validate, GridSearchCV,cross_val_score\n",
    "from sklearn.linear_model import LinearRegression,Lasso,ElasticNet\n",
    "from sklearn.ensemble import RandomForestRegressor\n",
    "from sklearn.dummy import DummyRegressor\n",
    "from sklearn.preprocessing import StandardScaler\n",
    "from sklearn.feature_selection import SelectKBest, f_regression\n",
    "from sklearn.pipeline import make_pipeline\n",
    "from sklearn.metrics import r2_score, mean_squared_error, mean_absolute_error,explained_variance_score\n"
   ]
  },
  {
   "cell_type": "code",
   "execution_count": 2,
   "id": "4088b3da",
   "metadata": {},
   "outputs": [],
   "source": [
    "# Read the process csv file from EDA\n",
    "movie_score = pd.read_csv('/Users/Amin/Documents/GitHub/Movie_boxoffice_reviews/data/processed/pre_process_movie.csv')"
   ]
  },
  {
   "cell_type": "code",
   "execution_count": 3,
   "id": "51344d73",
   "metadata": {},
   "outputs": [],
   "source": [
    "#Save the class of the movies as movie_class then drop it from the data\n",
    "\n",
    "movie_class = movie_score['class']\n",
    "movie_score.drop(columns='class',inplace=True)"
   ]
  },
  {
   "cell_type": "code",
   "execution_count": 4,
   "id": "23f573dd",
   "metadata": {},
   "outputs": [],
   "source": [
    "#split the data to train/test set. 70% train and 30% test.\n",
    "X_train, X_test, y_train, y_test = train_test_split(movie_score.drop(columns='All_time_gross'), \n",
    "                                                    movie_score.All_time_gross, test_size=0.2, \n",
    "                                                    random_state=47)"
   ]
  },
  {
   "cell_type": "code",
   "execution_count": 5,
   "id": "3d406920",
   "metadata": {},
   "outputs": [
    {
     "data": {
      "text/plain": [
       "((2620, 18), (2620,))"
      ]
     },
     "execution_count": 5,
     "metadata": {},
     "output_type": "execute_result"
    }
   ],
   "source": [
    "#check the train and test data shape\n",
    "\n",
    "X_train.shape,y_train.shape"
   ]
  },
  {
   "cell_type": "code",
   "execution_count": 6,
   "id": "b157e350",
   "metadata": {},
   "outputs": [
    {
     "data": {
      "text/plain": [
       "((656, 18), (656,))"
      ]
     },
     "execution_count": 6,
     "metadata": {},
     "output_type": "execute_result"
    }
   ],
   "source": [
    "X_test.shape,y_test.shape"
   ]
  },
  {
   "cell_type": "code",
   "execution_count": 7,
   "id": "631da889",
   "metadata": {},
   "outputs": [],
   "source": [
    "#Making the Random Forest Regressor model with the same HyperParameters from Pre-Process GridSearch\n",
    "rf_model = RandomForestRegressor(max_depth=60,n_estimators=50,\n",
    "                                 min_samples_leaf= 2,min_samples_split= 6,random_state=47)"
   ]
  },
  {
   "cell_type": "code",
   "execution_count": 8,
   "id": "b6c188f8",
   "metadata": {},
   "outputs": [
    {
     "data": {
      "text/plain": [
       "RandomForestRegressor(max_depth=60, min_samples_leaf=2, min_samples_split=6,\n",
       "                      n_estimators=50, random_state=47)"
      ]
     },
     "execution_count": 8,
     "metadata": {},
     "output_type": "execute_result"
    }
   ],
   "source": [
    "rf_model.fit(X_train,y_train)"
   ]
  },
  {
   "cell_type": "code",
   "execution_count": 9,
   "id": "ba4b54da",
   "metadata": {},
   "outputs": [],
   "source": [
    "cv_results = cross_validate(rf_model, X_train, y_train, scoring='neg_mean_absolute_error', cv=5, n_jobs=-1)"
   ]
  },
  {
   "cell_type": "code",
   "execution_count": 10,
   "id": "e8261dde",
   "metadata": {},
   "outputs": [
    {
     "data": {
      "text/plain": [
       "-40822549.687326"
      ]
     },
     "execution_count": 10,
     "metadata": {},
     "output_type": "execute_result"
    }
   ],
   "source": [
    "np.mean(cv_results['test_score'])"
   ]
  },
  {
   "cell_type": "markdown",
   "id": "83ae4ab1",
   "metadata": {},
   "source": [
    "Now let's get the prediction for the test set and see the model performance."
   ]
  },
  {
   "cell_type": "code",
   "execution_count": 11,
   "id": "652b5ba5",
   "metadata": {},
   "outputs": [],
   "source": [
    "#get the prediction for the test set\n",
    "y_pred = rf_model.predict(X_test)"
   ]
  },
  {
   "cell_type": "code",
   "execution_count": 12,
   "id": "bb2ca7a2",
   "metadata": {},
   "outputs": [
    {
     "data": {
      "text/plain": [
       "54962296.970882215"
      ]
     },
     "execution_count": 12,
     "metadata": {},
     "output_type": "execute_result"
    }
   ],
   "source": [
    "mean_absolute_error(y_test,y_pred)"
   ]
  },
  {
   "cell_type": "code",
   "execution_count": 13,
   "id": "8949f851",
   "metadata": {},
   "outputs": [
    {
     "data": {
      "text/plain": [
       "0.6105810264206532"
      ]
     },
     "execution_count": 13,
     "metadata": {},
     "output_type": "execute_result"
    }
   ],
   "source": [
    "explained_variance_score(y_test,y_pred)"
   ]
  },
  {
   "cell_type": "markdown",
   "id": "bf413d08",
   "metadata": {},
   "source": [
    "The mean absolute error for the test set is much higher.\n",
    "\n",
    "Let's create some metrics for each perdiction and analyze the perdiction for each class."
   ]
  },
  {
   "cell_type": "code",
   "execution_count": 14,
   "id": "11df051d",
   "metadata": {},
   "outputs": [
    {
     "data": {
      "text/html": [
       "<div>\n",
       "<style scoped>\n",
       "    .dataframe tbody tr th:only-of-type {\n",
       "        vertical-align: middle;\n",
       "    }\n",
       "\n",
       "    .dataframe tbody tr th {\n",
       "        vertical-align: top;\n",
       "    }\n",
       "\n",
       "    .dataframe thead th {\n",
       "        text-align: right;\n",
       "    }\n",
       "</style>\n",
       "<table border=\"1\" class=\"dataframe\">\n",
       "  <thead>\n",
       "    <tr style=\"text-align: right;\">\n",
       "      <th></th>\n",
       "      <th>index</th>\n",
       "      <th>0</th>\n",
       "      <th>class</th>\n",
       "    </tr>\n",
       "  </thead>\n",
       "  <tbody>\n",
       "    <tr>\n",
       "      <th>0</th>\n",
       "      <td>4.946669e+06</td>\n",
       "      <td>1473445.0</td>\n",
       "      <td>Average</td>\n",
       "    </tr>\n",
       "    <tr>\n",
       "      <th>1</th>\n",
       "      <td>1.360670e+08</td>\n",
       "      <td>47275717.0</td>\n",
       "      <td>Average</td>\n",
       "    </tr>\n",
       "    <tr>\n",
       "      <th>2</th>\n",
       "      <td>5.355489e+06</td>\n",
       "      <td>7078.0</td>\n",
       "      <td>Average</td>\n",
       "    </tr>\n",
       "    <tr>\n",
       "      <th>3</th>\n",
       "      <td>1.999655e+07</td>\n",
       "      <td>4552970.0</td>\n",
       "      <td>Indie</td>\n",
       "    </tr>\n",
       "    <tr>\n",
       "      <th>4</th>\n",
       "      <td>1.997942e+07</td>\n",
       "      <td>13313581.0</td>\n",
       "      <td>Blockbuster</td>\n",
       "    </tr>\n",
       "    <tr>\n",
       "      <th>...</th>\n",
       "      <td>...</td>\n",
       "      <td>...</td>\n",
       "      <td>...</td>\n",
       "    </tr>\n",
       "    <tr>\n",
       "      <th>651</th>\n",
       "      <td>7.887841e+05</td>\n",
       "      <td>155215.0</td>\n",
       "      <td>Indie</td>\n",
       "    </tr>\n",
       "    <tr>\n",
       "      <th>652</th>\n",
       "      <td>8.440713e+05</td>\n",
       "      <td>507914.0</td>\n",
       "      <td>Average</td>\n",
       "    </tr>\n",
       "    <tr>\n",
       "      <th>653</th>\n",
       "      <td>5.099886e+05</td>\n",
       "      <td>61465.0</td>\n",
       "      <td>Indie</td>\n",
       "    </tr>\n",
       "    <tr>\n",
       "      <th>654</th>\n",
       "      <td>9.560158e+07</td>\n",
       "      <td>112983889.0</td>\n",
       "      <td>Indie</td>\n",
       "    </tr>\n",
       "    <tr>\n",
       "      <th>655</th>\n",
       "      <td>1.664407e+08</td>\n",
       "      <td>207039844.0</td>\n",
       "      <td>Indie</td>\n",
       "    </tr>\n",
       "  </tbody>\n",
       "</table>\n",
       "<p>656 rows × 3 columns</p>\n",
       "</div>"
      ],
      "text/plain": [
       "            index            0        class\n",
       "0    4.946669e+06    1473445.0      Average\n",
       "1    1.360670e+08   47275717.0      Average\n",
       "2    5.355489e+06       7078.0      Average\n",
       "3    1.999655e+07    4552970.0        Indie\n",
       "4    1.997942e+07   13313581.0  Blockbuster\n",
       "..            ...          ...          ...\n",
       "651  7.887841e+05     155215.0        Indie\n",
       "652  8.440713e+05     507914.0      Average\n",
       "653  5.099886e+05      61465.0        Indie\n",
       "654  9.560158e+07  112983889.0        Indie\n",
       "655  1.664407e+08  207039844.0        Indie\n",
       "\n",
       "[656 rows x 3 columns]"
      ]
     },
     "execution_count": 14,
     "metadata": {},
     "output_type": "execute_result"
    }
   ],
   "source": [
    "# make a result df and create some metrics for the predictions.\n",
    "\n",
    "result = pd.DataFrame(y_test.values,y_pred).reset_index() \n",
    "result = pd.concat([result,movie_class],axis=1).dropna()\n",
    "result"
   ]
  },
  {
   "cell_type": "code",
   "execution_count": 15,
   "id": "ac4a0e1a",
   "metadata": {},
   "outputs": [],
   "source": [
    "result = result.rename(columns={'index':'box-office',0:'prediction'})\n",
    "result['absolute_error'] = np.abs(result['prediction'] - result['box-office'])\n",
    "result['acuracy_of_perdiction'] = 100 - ((result['absolute_error']/result['box-office']*100))"
   ]
  },
  {
   "cell_type": "code",
   "execution_count": 16,
   "id": "a716a2e5",
   "metadata": {},
   "outputs": [
    {
     "data": {
      "text/html": [
       "<div>\n",
       "<style scoped>\n",
       "    .dataframe tbody tr th:only-of-type {\n",
       "        vertical-align: middle;\n",
       "    }\n",
       "\n",
       "    .dataframe tbody tr th {\n",
       "        vertical-align: top;\n",
       "    }\n",
       "\n",
       "    .dataframe thead th {\n",
       "        text-align: right;\n",
       "    }\n",
       "</style>\n",
       "<table border=\"1\" class=\"dataframe\">\n",
       "  <thead>\n",
       "    <tr style=\"text-align: right;\">\n",
       "      <th></th>\n",
       "      <th>box-office</th>\n",
       "      <th>prediction</th>\n",
       "      <th>class</th>\n",
       "      <th>absolute_error</th>\n",
       "      <th>acuracy_of_perdiction</th>\n",
       "    </tr>\n",
       "  </thead>\n",
       "  <tbody>\n",
       "    <tr>\n",
       "      <th>0</th>\n",
       "      <td>4.946669e+06</td>\n",
       "      <td>1473445.0</td>\n",
       "      <td>Average</td>\n",
       "      <td>3.473224e+06</td>\n",
       "      <td>29.786608</td>\n",
       "    </tr>\n",
       "    <tr>\n",
       "      <th>1</th>\n",
       "      <td>1.360670e+08</td>\n",
       "      <td>47275717.0</td>\n",
       "      <td>Average</td>\n",
       "      <td>8.879130e+07</td>\n",
       "      <td>34.744434</td>\n",
       "    </tr>\n",
       "    <tr>\n",
       "      <th>2</th>\n",
       "      <td>5.355489e+06</td>\n",
       "      <td>7078.0</td>\n",
       "      <td>Average</td>\n",
       "      <td>5.348411e+06</td>\n",
       "      <td>0.132163</td>\n",
       "    </tr>\n",
       "    <tr>\n",
       "      <th>3</th>\n",
       "      <td>1.999655e+07</td>\n",
       "      <td>4552970.0</td>\n",
       "      <td>Indie</td>\n",
       "      <td>1.544358e+07</td>\n",
       "      <td>22.768774</td>\n",
       "    </tr>\n",
       "    <tr>\n",
       "      <th>4</th>\n",
       "      <td>1.997942e+07</td>\n",
       "      <td>13313581.0</td>\n",
       "      <td>Blockbuster</td>\n",
       "      <td>6.665839e+06</td>\n",
       "      <td>66.636475</td>\n",
       "    </tr>\n",
       "    <tr>\n",
       "      <th>5</th>\n",
       "      <td>1.033331e+06</td>\n",
       "      <td>2405143.0</td>\n",
       "      <td>Average</td>\n",
       "      <td>1.371812e+06</td>\n",
       "      <td>-32.756295</td>\n",
       "    </tr>\n",
       "    <tr>\n",
       "      <th>6</th>\n",
       "      <td>4.454658e+06</td>\n",
       "      <td>428752.0</td>\n",
       "      <td>Indie</td>\n",
       "      <td>4.025906e+06</td>\n",
       "      <td>9.624803</td>\n",
       "    </tr>\n",
       "    <tr>\n",
       "      <th>7</th>\n",
       "      <td>1.200517e+08</td>\n",
       "      <td>94019120.0</td>\n",
       "      <td>Average</td>\n",
       "      <td>2.603257e+07</td>\n",
       "      <td>78.315532</td>\n",
       "    </tr>\n",
       "    <tr>\n",
       "      <th>8</th>\n",
       "      <td>7.531574e+07</td>\n",
       "      <td>246985.0</td>\n",
       "      <td>Blockbuster</td>\n",
       "      <td>7.506876e+07</td>\n",
       "      <td>0.327933</td>\n",
       "    </tr>\n",
       "    <tr>\n",
       "      <th>9</th>\n",
       "      <td>1.720607e+07</td>\n",
       "      <td>90497778.0</td>\n",
       "      <td>Indie</td>\n",
       "      <td>7.329171e+07</td>\n",
       "      <td>-325.964230</td>\n",
       "    </tr>\n",
       "  </tbody>\n",
       "</table>\n",
       "</div>"
      ],
      "text/plain": [
       "     box-office  prediction        class  absolute_error  \\\n",
       "0  4.946669e+06   1473445.0      Average    3.473224e+06   \n",
       "1  1.360670e+08  47275717.0      Average    8.879130e+07   \n",
       "2  5.355489e+06      7078.0      Average    5.348411e+06   \n",
       "3  1.999655e+07   4552970.0        Indie    1.544358e+07   \n",
       "4  1.997942e+07  13313581.0  Blockbuster    6.665839e+06   \n",
       "5  1.033331e+06   2405143.0      Average    1.371812e+06   \n",
       "6  4.454658e+06    428752.0        Indie    4.025906e+06   \n",
       "7  1.200517e+08  94019120.0      Average    2.603257e+07   \n",
       "8  7.531574e+07    246985.0  Blockbuster    7.506876e+07   \n",
       "9  1.720607e+07  90497778.0        Indie    7.329171e+07   \n",
       "\n",
       "   acuracy_of_perdiction  \n",
       "0              29.786608  \n",
       "1              34.744434  \n",
       "2               0.132163  \n",
       "3              22.768774  \n",
       "4              66.636475  \n",
       "5             -32.756295  \n",
       "6               9.624803  \n",
       "7              78.315532  \n",
       "8               0.327933  \n",
       "9            -325.964230  "
      ]
     },
     "execution_count": 16,
     "metadata": {},
     "output_type": "execute_result"
    }
   ],
   "source": [
    "result.head(10)"
   ]
  },
  {
   "cell_type": "code",
   "execution_count": 17,
   "id": "924e1f44",
   "metadata": {},
   "outputs": [
    {
     "data": {
      "text/plain": [
       "count       656.000000\n",
       "mean       -267.121505\n",
       "std        6823.041557\n",
       "min     -174584.328616\n",
       "25%           2.625052\n",
       "50%          22.266784\n",
       "75%          58.885457\n",
       "max          99.922214\n",
       "Name: acuracy_of_perdiction, dtype: float64"
      ]
     },
     "execution_count": 17,
     "metadata": {},
     "output_type": "execute_result"
    }
   ],
   "source": [
    "result.acuracy_of_perdiction.describe()"
   ]
  },
  {
   "cell_type": "code",
   "execution_count": 18,
   "id": "e5e3b94f",
   "metadata": {},
   "outputs": [
    {
     "data": {
      "text/plain": [
       "5       -32.756295\n",
       "9      -325.964230\n",
       "10      -76.342430\n",
       "13     -604.923508\n",
       "54     -284.130433\n",
       "          ...     \n",
       "622    -194.434409\n",
       "633    -323.876210\n",
       "636    -125.897783\n",
       "639     -10.511615\n",
       "643   -1843.008060\n",
       "Name: acuracy_of_perdiction, Length: 69, dtype: float64"
      ]
     },
     "execution_count": 18,
     "metadata": {},
     "output_type": "execute_result"
    }
   ],
   "source": [
    "result.acuracy_of_perdiction[result.acuracy_of_perdiction<0]"
   ]
  },
  {
   "cell_type": "markdown",
   "id": "8cf96dc9",
   "metadata": {},
   "source": [
    "As we can see, sometime the error of prediction is more than the box-office itself ( specially for the Blockbuster) and that wil cause the acuracy be a negative percentage.\n",
    "We can set that to zero and assume in that cases acuracy percnetage is zero."
   ]
  },
  {
   "cell_type": "code",
   "execution_count": 19,
   "id": "d9b5194b",
   "metadata": {},
   "outputs": [],
   "source": [
    "result.loc[result.acuracy_of_perdiction<0,'acuracy_of_perdiction'] = 0"
   ]
  },
  {
   "cell_type": "code",
   "execution_count": 20,
   "id": "3ab6a9b6",
   "metadata": {},
   "outputs": [
    {
     "data": {
      "text/html": [
       "<div>\n",
       "<style scoped>\n",
       "    .dataframe tbody tr th:only-of-type {\n",
       "        vertical-align: middle;\n",
       "    }\n",
       "\n",
       "    .dataframe tbody tr th {\n",
       "        vertical-align: top;\n",
       "    }\n",
       "\n",
       "    .dataframe thead th {\n",
       "        text-align: right;\n",
       "    }\n",
       "</style>\n",
       "<table border=\"1\" class=\"dataframe\">\n",
       "  <thead>\n",
       "    <tr style=\"text-align: right;\">\n",
       "      <th></th>\n",
       "      <th>box-office</th>\n",
       "      <th>prediction</th>\n",
       "      <th>class</th>\n",
       "      <th>absolute_error</th>\n",
       "      <th>acuracy_of_perdiction</th>\n",
       "    </tr>\n",
       "  </thead>\n",
       "  <tbody>\n",
       "    <tr>\n",
       "      <th>0</th>\n",
       "      <td>4.946669e+06</td>\n",
       "      <td>1473445.0</td>\n",
       "      <td>Average</td>\n",
       "      <td>3.473224e+06</td>\n",
       "      <td>29.786608</td>\n",
       "    </tr>\n",
       "    <tr>\n",
       "      <th>1</th>\n",
       "      <td>1.360670e+08</td>\n",
       "      <td>47275717.0</td>\n",
       "      <td>Average</td>\n",
       "      <td>8.879130e+07</td>\n",
       "      <td>34.744434</td>\n",
       "    </tr>\n",
       "    <tr>\n",
       "      <th>2</th>\n",
       "      <td>5.355489e+06</td>\n",
       "      <td>7078.0</td>\n",
       "      <td>Average</td>\n",
       "      <td>5.348411e+06</td>\n",
       "      <td>0.132163</td>\n",
       "    </tr>\n",
       "    <tr>\n",
       "      <th>3</th>\n",
       "      <td>1.999655e+07</td>\n",
       "      <td>4552970.0</td>\n",
       "      <td>Indie</td>\n",
       "      <td>1.544358e+07</td>\n",
       "      <td>22.768774</td>\n",
       "    </tr>\n",
       "    <tr>\n",
       "      <th>4</th>\n",
       "      <td>1.997942e+07</td>\n",
       "      <td>13313581.0</td>\n",
       "      <td>Blockbuster</td>\n",
       "      <td>6.665839e+06</td>\n",
       "      <td>66.636475</td>\n",
       "    </tr>\n",
       "    <tr>\n",
       "      <th>5</th>\n",
       "      <td>1.033331e+06</td>\n",
       "      <td>2405143.0</td>\n",
       "      <td>Average</td>\n",
       "      <td>1.371812e+06</td>\n",
       "      <td>0.000000</td>\n",
       "    </tr>\n",
       "    <tr>\n",
       "      <th>6</th>\n",
       "      <td>4.454658e+06</td>\n",
       "      <td>428752.0</td>\n",
       "      <td>Indie</td>\n",
       "      <td>4.025906e+06</td>\n",
       "      <td>9.624803</td>\n",
       "    </tr>\n",
       "    <tr>\n",
       "      <th>7</th>\n",
       "      <td>1.200517e+08</td>\n",
       "      <td>94019120.0</td>\n",
       "      <td>Average</td>\n",
       "      <td>2.603257e+07</td>\n",
       "      <td>78.315532</td>\n",
       "    </tr>\n",
       "    <tr>\n",
       "      <th>8</th>\n",
       "      <td>7.531574e+07</td>\n",
       "      <td>246985.0</td>\n",
       "      <td>Blockbuster</td>\n",
       "      <td>7.506876e+07</td>\n",
       "      <td>0.327933</td>\n",
       "    </tr>\n",
       "    <tr>\n",
       "      <th>9</th>\n",
       "      <td>1.720607e+07</td>\n",
       "      <td>90497778.0</td>\n",
       "      <td>Indie</td>\n",
       "      <td>7.329171e+07</td>\n",
       "      <td>0.000000</td>\n",
       "    </tr>\n",
       "  </tbody>\n",
       "</table>\n",
       "</div>"
      ],
      "text/plain": [
       "     box-office  prediction        class  absolute_error  \\\n",
       "0  4.946669e+06   1473445.0      Average    3.473224e+06   \n",
       "1  1.360670e+08  47275717.0      Average    8.879130e+07   \n",
       "2  5.355489e+06      7078.0      Average    5.348411e+06   \n",
       "3  1.999655e+07   4552970.0        Indie    1.544358e+07   \n",
       "4  1.997942e+07  13313581.0  Blockbuster    6.665839e+06   \n",
       "5  1.033331e+06   2405143.0      Average    1.371812e+06   \n",
       "6  4.454658e+06    428752.0        Indie    4.025906e+06   \n",
       "7  1.200517e+08  94019120.0      Average    2.603257e+07   \n",
       "8  7.531574e+07    246985.0  Blockbuster    7.506876e+07   \n",
       "9  1.720607e+07  90497778.0        Indie    7.329171e+07   \n",
       "\n",
       "   acuracy_of_perdiction  \n",
       "0              29.786608  \n",
       "1              34.744434  \n",
       "2               0.132163  \n",
       "3              22.768774  \n",
       "4              66.636475  \n",
       "5               0.000000  \n",
       "6               9.624803  \n",
       "7              78.315532  \n",
       "8               0.327933  \n",
       "9               0.000000  "
      ]
     },
     "execution_count": 20,
     "metadata": {},
     "output_type": "execute_result"
    }
   ],
   "source": [
    "result.head(10)"
   ]
  },
  {
   "cell_type": "code",
   "execution_count": 21,
   "id": "7d1eef2b",
   "metadata": {},
   "outputs": [
    {
     "data": {
      "text/plain": [
       "count    410.000000\n",
       "mean      34.465736\n",
       "std       32.420447\n",
       "min        0.000000\n",
       "25%        4.227960\n",
       "50%       22.637489\n",
       "75%       62.414103\n",
       "max       99.868207\n",
       "Name: acuracy_of_perdiction, dtype: float64"
      ]
     },
     "execution_count": 21,
     "metadata": {},
     "output_type": "execute_result"
    }
   ],
   "source": [
    "result_indie = result[result['class'] == 'Indie']\n",
    "result_indie.acuracy_of_perdiction.describe()"
   ]
  },
  {
   "cell_type": "code",
   "execution_count": 22,
   "id": "415f9996",
   "metadata": {},
   "outputs": [
    {
     "data": {
      "text/plain": [
       "count    213.000000\n",
       "mean      30.515639\n",
       "std       30.797743\n",
       "min        0.000000\n",
       "25%        1.722231\n",
       "50%       22.639659\n",
       "75%       54.993180\n",
       "max       99.922214\n",
       "Name: acuracy_of_perdiction, dtype: float64"
      ]
     },
     "execution_count": 22,
     "metadata": {},
     "output_type": "execute_result"
    }
   ],
   "source": [
    "result_average = result[result['class'] == 'Average']\n",
    "result_average.acuracy_of_perdiction.describe()"
   ]
  },
  {
   "cell_type": "code",
   "execution_count": 23,
   "id": "faece406",
   "metadata": {},
   "outputs": [
    {
     "data": {
      "text/plain": [
       "count    33.000000\n",
       "mean     22.730181\n",
       "std      26.791237\n",
       "min       0.000000\n",
       "25%       0.327933\n",
       "50%      12.502487\n",
       "75%      38.616870\n",
       "max      89.489173\n",
       "Name: acuracy_of_perdiction, dtype: float64"
      ]
     },
     "execution_count": 23,
     "metadata": {},
     "output_type": "execute_result"
    }
   ],
   "source": [
    "result_blockbuster = result[result['class'] == 'Blockbuster']\n",
    "result_blockbuster.acuracy_of_perdiction.describe()"
   ]
  },
  {
   "cell_type": "code",
   "execution_count": 24,
   "id": "74e7562a",
   "metadata": {},
   "outputs": [
    {
     "data": {
      "image/png": "[encoded data removed]",
      "text/plain": [
       "<Figure size 576x720 with 1 Axes>"
      ]
     },
     "metadata": {},
     "output_type": "display_data"
    }
   ],
   "source": [
    "sns.set(rc={'figure.figsize':(8,10)})\n",
    "_ = sns.boxplot(y='acuracy_of_perdiction',data=result,x='class')"
   ]
  },
  {
   "cell_type": "code",
   "execution_count": 25,
   "id": "9c0ff78d",
   "metadata": {},
   "outputs": [
    {
     "data": {
      "image/png": "[encoded data removed]",
      "text/plain": [
       "<Figure size 576x720 with 1 Axes>"
      ]
     },
     "metadata": {},
     "output_type": "display_data"
    }
   ],
   "source": [
    "sns.set(rc={'figure.figsize':(8,10)})\n",
    "_ = sns.boxplot(y='absolute_error',data=result,x='class')"
   ]
  },
  {
   "cell_type": "markdown",
   "id": "cdc6ae90",
   "metadata": {},
   "source": [
    "We can see the acuracy for the Blockbuster is worse among the clases and that is mainly because box-office for those film has a very high number, and even if the prediction is in close range of the real value the diffrence still be a high number and that would cause the acuracy percentage drop.\n",
    "beside that we see what we expect from the R2 score. Acuracy arond 20 to 60 percent with the median around 30 depands on the class.\n",
    "While the model won't be able to get us a perfect prediction, but we can assume it will classify the film class with high acuracy. \n",
    "We can examine that with some real vote data that are more recent and are not in our original dataset.\n",
    "\n",
    "The absoulate error on the other hand is around 50 to 10 millions for the most cases, which is a good number for the Blockbuster and Average class. Althought there are some outlier in Indie and average class with very high error.\n",
    "\n",
    "let's start with a big movie in 2021. __Spider-Man : No Way Home.__"
   ]
  },
  {
   "cell_type": "code",
   "execution_count": 26,
   "id": "6ed56a54",
   "metadata": {},
   "outputs": [],
   "source": [
    "spider = pd.DataFrame({     'tom_cri_vote':[93],\n",
    "                            'tom_cri_num':[385],\n",
    "                            'tom_aud_vote':[98],\n",
    "                            'tom_aud_num':[25000],\n",
    "                            'met_cri_vote':[71],\n",
    "                            'met_cri_num':[59],\n",
    "                            'met_aud_vote':[89],\n",
    "                            'met_aud_num':[2013],\n",
    "                            'imdb_vote':[87],\n",
    "                            'imdb_num':[451025],\n",
    "                            'imdb_us_vote':[87],\n",
    "                            'imdb_us_num':[34371],\n",
    "                            'imdb_nus_vote':[84],\n",
    "                            'imdb_nus_num':[87342],\n",
    "                            'imdb_fem_vote':[88],\n",
    "                            'imdb_fem_num':[26676],\n",
    "                            'imdb_mal_vote':[86],\n",
    "                            'imdb_mal_num':[162657]\n",
    "                 })"
   ]
  },
  {
   "cell_type": "code",
   "execution_count": 27,
   "id": "d43f5d87",
   "metadata": {},
   "outputs": [],
   "source": [
    "spider_box_predict = rf_model.predict(spider.iloc[0].array.reshape(1, -1))"
   ]
  },
  {
   "cell_type": "code",
   "execution_count": 28,
   "id": "6762ccf4",
   "metadata": {},
   "outputs": [
    {
     "data": {
      "text/plain": [
       "array([8.58447524e+08])"
      ]
     },
     "execution_count": 28,
     "metadata": {},
     "output_type": "execute_result"
    }
   ],
   "source": [
    "spider_box_predict"
   ]
  },
  {
   "cell_type": "markdown",
   "id": "b737d976",
   "metadata": {},
   "source": [
    "The model predict that this film box-office will be 850 million dollars based on the vote data that we provide.\n",
    "The film end up with 1.7 Bilion dollar in box-office. There is a very large error in the model prediction ( around 900 million dollar) but the model succesfuly predict that this film going to be a big Blockbuster with very high box-office gross.\n",
    "\n",
    "Let's check another promising film in 2021: __Dune__. althoght it is not a Super Hero or a Marvel movie, but with very well-known casts, huge advertisment campain and pick the chrismas time relese, the producer hope to gain a good gross in box-office, number close to a billion."
   ]
  },
  {
   "cell_type": "code",
   "execution_count": 29,
   "id": "f03f2c63",
   "metadata": {},
   "outputs": [],
   "source": [
    "dune = pd.DataFrame({      'tom_cri_vote':[83],\n",
    "                            'tom_cri_num':[456],\n",
    "                            'tom_aud_vote':[90],\n",
    "                            'tom_aud_num':[5000],\n",
    "                            'met_cri_vote':[74],\n",
    "                            'met_cri_num':[67],\n",
    "                            'met_aud_vote':[80],\n",
    "                            'met_aud_num':[1371],\n",
    "                            'imdb_vote':[81],\n",
    "                            'imdb_num':[478505],\n",
    "                            'imdb_us_vote':[81],\n",
    "                            'imdb_us_num':[44798],\n",
    "                            'imdb_nus_vote':[80],\n",
    "                            'imdb_nus_num':[142364],\n",
    "                            'imdb_fem_vote':[81],\n",
    "                            'imdb_fem_num':[39777],\n",
    "                            'imdb_mal_vote':[81],\n",
    "                            'imdb_mal_num':[224114]\n",
    "                 })"
   ]
  },
  {
   "cell_type": "code",
   "execution_count": 30,
   "id": "5cecea8d",
   "metadata": {},
   "outputs": [],
   "source": [
    "dune_box_predict = rf_model.predict(dune.iloc[0].array.reshape(1, -1))"
   ]
  },
  {
   "cell_type": "code",
   "execution_count": 31,
   "id": "b1c8284b",
   "metadata": {},
   "outputs": [
    {
     "data": {
      "text/plain": [
       "array([6.38620198e+08])"
      ]
     },
     "execution_count": 31,
     "metadata": {},
     "output_type": "execute_result"
    }
   ],
   "source": [
    "dune_box_predict"
   ]
  },
  {
   "cell_type": "markdown",
   "id": "f5d24507",
   "metadata": {},
   "source": [
    "Model predicts 650 million dollar box-office for Dune and in reality it gained 400 millions. This is even a closer prediction and succeful classification of the movie as a Blockbuster. Seems if the box-office is less than a billion we will have a closer prediction.\n",
    "\n",
    "Now let's check another promising film, it is not a Marvel Super Hero or a Sci-fi movie, but it has a very famouse director, and Al Pacino and Lady Gaga as a cast and an interesting story. __House of Gucci__"
   ]
  },
  {
   "cell_type": "code",
   "execution_count": 32,
   "id": "eef3d39e",
   "metadata": {},
   "outputs": [],
   "source": [
    "house_of_gucci = pd.DataFrame({     'tom_cri_vote':[63],\n",
    "                                    'tom_cri_num':[335],\n",
    "                                    'tom_aud_vote':[83],\n",
    "                                    'tom_aud_num':[2500],\n",
    "                                    'met_cri_vote':[59],\n",
    "                                    'met_cri_num':[57],\n",
    "                                    'met_aud_vote':[80],\n",
    "                                    'met_aud_num':[857],\n",
    "                                    'imdb_vote':[68],\n",
    "                                    'imdb_num':[64497],\n",
    "                                    'imdb_us_vote':[67],\n",
    "                                    'imdb_us_num':[6084],\n",
    "                                    'imdb_nus_vote':[67],\n",
    "                                    'imdb_nus_num':[20533],\n",
    "                                    'imdb_fem_vote':[69],\n",
    "                                    'imdb_fem_num':[8867],\n",
    "                                    'imdb_mal_vote':[67],\n",
    "                                    'imdb_mal_num':[27604]\n",
    "                 })"
   ]
  },
  {
   "cell_type": "code",
   "execution_count": 33,
   "id": "508d4ae5",
   "metadata": {},
   "outputs": [],
   "source": [
    "house_of_gucci_box_predict = rf_model.predict(house_of_gucci.iloc[0].array.reshape(1, -1))"
   ]
  },
  {
   "cell_type": "code",
   "execution_count": 34,
   "id": "d8e3b3b6",
   "metadata": {},
   "outputs": [
    {
     "data": {
      "text/plain": [
       "array([2.70107102e+08])"
      ]
     },
     "execution_count": 34,
     "metadata": {},
     "output_type": "execute_result"
    }
   ],
   "source": [
    "house_of_gucci_box_predict"
   ]
  },
  {
   "cell_type": "markdown",
   "id": "7be6ffc8",
   "metadata": {},
   "source": [
    "Model predicts a 270 million dollar box-office for the film which is less than we expect form this cast and director.\n",
    "In reality it gains only 150 millions dollars, people didn't like it even with the big cast and famous Ridly Scott as a director.\n",
    "\n",
    "Model classify it sussefuly as an average movie acording to the vote number we used and predict a close box-office for the film.\n",
    "\n",
    "Now Let's try the Independent film with a low budget that critics loved it. Story about princess diana that seems still is hot a story specially in 2021. __Spencer__\n",
    "\n"
   ]
  },
  {
   "cell_type": "code",
   "execution_count": 35,
   "id": "d0300e3f",
   "metadata": {},
   "outputs": [],
   "source": [
    "spencer = pd.DataFrame({    'tom_cri_vote':[83],\n",
    "                            'tom_cri_num':[321],\n",
    "                            'tom_aud_vote':[52],\n",
    "                            'tom_aud_num':[500],\n",
    "                            'met_cri_vote':[76],\n",
    "                            'met_cri_num':[53],\n",
    "                            'met_aud_vote':[67],\n",
    "                            'met_aud_num':[260],\n",
    "                            'imdb_vote':[68],\n",
    "                            'imdb_num':[36549],\n",
    "                            'imdb_us_vote':[69],\n",
    "                            'imdb_us_num':[4371],\n",
    "                            'imdb_nus_vote':[67],\n",
    "                            'imdb_nus_num':[12148],\n",
    "                            'imdb_fem_vote':[65],\n",
    "                            'imdb_fem_num':[5724],\n",
    "                            'imdb_mal_vote':[68],\n",
    "                            'imdb_mal_num':[15806]\n",
    "                 })"
   ]
  },
  {
   "cell_type": "code",
   "execution_count": 36,
   "id": "1961c04f",
   "metadata": {},
   "outputs": [],
   "source": [
    "spencer_box_predict = rf_model.predict(spencer.iloc[0].array.reshape(1, -1))"
   ]
  },
  {
   "cell_type": "code",
   "execution_count": 37,
   "id": "d1285ff6",
   "metadata": {},
   "outputs": [
    {
     "data": {
      "text/plain": [
       "array([44707359.11635715])"
      ]
     },
     "execution_count": 37,
     "metadata": {},
     "output_type": "execute_result"
    }
   ],
   "source": [
    "spencer_box_predict"
   ]
  },
  {
   "cell_type": "markdown",
   "id": "72c3e57d",
   "metadata": {},
   "source": [
    "This film gets a high vote from the critics and nominate for oscars season, but it ends up with 20 millions dollars at box-office.\n",
    "\n",
    "Model perdict 44 millions, very close number and classify correctly as an indie film.\n",
    "\n",
    "Let's try a more independent film, agained loved by critics at Cann film festival, but this one doesn't even have a hot story or interesting cast."
   ]
  },
  {
   "cell_type": "code",
   "execution_count": 38,
   "id": "b9ecaf94",
   "metadata": {},
   "outputs": [],
   "source": [
    "bergman_island = pd.DataFrame({     'tom_cri_vote':[86],\n",
    "                                    'tom_cri_num':[118],\n",
    "                                    'tom_aud_vote':[52],\n",
    "                                    'tom_aud_num':[50],\n",
    "                                    'met_cri_vote':[81],\n",
    "                                    'met_cri_num':[26],\n",
    "                                    'met_aud_vote':[66],\n",
    "                                    'met_aud_num':[20],\n",
    "                                    'imdb_vote':[68],\n",
    "                                    'imdb_num':[3878],\n",
    "                                    'imdb_us_vote':[68],\n",
    "                                    'imdb_us_num':[556],\n",
    "                                    'imdb_nus_vote':[67],\n",
    "                                    'imdb_nus_num':[1727],\n",
    "                                    'imdb_fem_vote':[66],\n",
    "                                    'imdb_fem_num':[475],\n",
    "                                    'imdb_mal_vote':[68],\n",
    "                                    'imdb_mal_num':[2268]\n",
    "                 })"
   ]
  },
  {
   "cell_type": "code",
   "execution_count": 39,
   "id": "746353ba",
   "metadata": {},
   "outputs": [],
   "source": [
    "bergman_island_box_predict = rf_model.predict(bergman_island.iloc[0].array.reshape(1, -1))"
   ]
  },
  {
   "cell_type": "code",
   "execution_count": 40,
   "id": "12ed9a81",
   "metadata": {},
   "outputs": [
    {
     "data": {
      "text/plain": [
       "array([2367437.25487446])"
      ]
     },
     "execution_count": 40,
     "metadata": {},
     "output_type": "execute_result"
    }
   ],
   "source": [
    "bergman_island_box_predict"
   ]
  },
  {
   "cell_type": "markdown",
   "id": "40f2fdab",
   "metadata": {},
   "source": [
    "Model predict only 2 million dollars for this film based on the vote data and it actually ends up gain only 700 thousend dollars in real life.\n",
    "Even if we create a movie classes with smaller margine ( in compare to the original three class that I made), this model would be abale to recognize the movie class with high accuracy, and predict a close number for the box-office.\n"
   ]
  },
  {
   "cell_type": "code",
   "execution_count": 41,
   "id": "b7dcfb76",
   "metadata": {},
   "outputs": [],
   "source": [
    "first_cow = pd.DataFrame({     'tom_cri_vote':[96],\n",
    "                                    'tom_cri_num':[210],\n",
    "                                    'tom_aud_vote':[63],\n",
    "                                    'tom_aud_num':[500],\n",
    "                                    'met_cri_vote':[89],\n",
    "                                    'met_cri_num':[44],\n",
    "                                    'met_aud_vote':[70],\n",
    "                                    'met_aud_num':[114],\n",
    "                                    'imdb_vote':[71],\n",
    "                                    'imdb_num':[16957],\n",
    "                                    'imdb_us_vote':[71],\n",
    "                                    'imdb_us_num':[2907],\n",
    "                                    'imdb_nus_vote':[71],\n",
    "                                    'imdb_nus_num':[7091],\n",
    "                                    'imdb_fem_vote':[70],\n",
    "                                    'imdb_fem_num':[1440],\n",
    "                                    'imdb_mal_vote':[72],\n",
    "                                    'imdb_mal_num':[10606]\n",
    "                 })"
   ]
  },
  {
   "cell_type": "code",
   "execution_count": 42,
   "id": "dac0f639",
   "metadata": {},
   "outputs": [],
   "source": [
    "first_cow_box_predict = rf_model.predict(first_cow.iloc[0].array.reshape(1, -1))"
   ]
  },
  {
   "cell_type": "code",
   "execution_count": 43,
   "id": "0e21d33a",
   "metadata": {},
   "outputs": [
    {
     "data": {
      "text/plain": [
       "array([13941108.95813204])"
      ]
     },
     "execution_count": 43,
     "metadata": {},
     "output_type": "execute_result"
    }
   ],
   "source": [
    "first_cow_box_predict"
   ]
  },
  {
   "cell_type": "code",
   "execution_count": null,
   "id": "b54d9c07",
   "metadata": {},
   "outputs": [],
   "source": []
  }
 ],
 "metadata": {
  "kernelspec": {
   "display_name": "Python 3",
   "language": "python",
   "name": "python3"
  },
  "language_info": {
   "codemirror_mode": {
    "name": "ipython",
    "version": 3
   },
   "file_extension": ".py",
   "mimetype": "text/x-python",
   "name": "python",
   "nbconvert_exporter": "python",
   "pygments_lexer": "ipython3",
   "version": "3.8.8"
  }
 },
 "nbformat": 4,
 "nbformat_minor": 5
}
