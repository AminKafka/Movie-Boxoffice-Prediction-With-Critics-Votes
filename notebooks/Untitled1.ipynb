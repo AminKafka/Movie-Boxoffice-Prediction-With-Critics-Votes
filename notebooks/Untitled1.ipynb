{
 "cells": [
  {
   "cell_type": "code",
   "execution_count": 60,
   "id": "457da433",
   "metadata": {},
   "outputs": [],
   "source": [
    "import pandas as pd\n",
    "df_rate = pd.read_csv('/Users/Amin/Documents/GitHub/Movie_boxoffice_reviews/data/external/IMDb ratings.csv')\n",
    "df_movie = pd.read_csv('/Users/Amin/Documents/GitHub/Movie_boxoffice_reviews/data/external/IMDb movies.csv')\n",
    "df = df_rate.merge(df_movie,on='imdb_title_id')\n",
    "imdb = df[['imdb_title_id','title','director','year','date_published','avg_vote','total_votes','us_voters_rating','us_voters_votes','non_us_voters_rating','non_us_voters_votes','females_allages_avg_vote','females_allages_votes','males_allages_avg_vote','males_allages_votes']]\n",
    "imdb.columns\n",
    "imdb.drop(labels=83917, inplace=True)"
   ]
  },
  {
   "cell_type": "code",
   "execution_count": 62,
   "id": "4c4b5449",
   "metadata": {},
   "outputs": [],
   "source": [
    "\n",
    "\n",
    "imdb['year']=pd.to_numeric(imdb['year'])\n",
    "imdb=imdb[(imdb['year']>=2010) & (imdb['year']<2017)]\n",
    "imdb.describe()\n",
    "imdb.to_csv('/Users/Amin/Documents/GitHub/Movie_boxoffice_reviews/data/external/IMDb_alt.csv')\n",
    "\n"
   ]
  },
  {
   "cell_type": "code",
   "execution_count": null,
   "id": "ec339b87",
   "metadata": {},
   "outputs": [],
   "source": []
  }
 ],
 "metadata": {
  "kernelspec": {
   "display_name": "Python 3",
   "language": "python",
   "name": "python3"
  },
  "language_info": {
   "codemirror_mode": {
    "name": "ipython",
    "version": 3
   },
   "file_extension": ".py",
   "mimetype": "text/x-python",
   "name": "python",
   "nbconvert_exporter": "python",
   "pygments_lexer": "ipython3",
   "version": "3.8.8"
  }
 },
 "nbformat": 4,
 "nbformat_minor": 5
}
