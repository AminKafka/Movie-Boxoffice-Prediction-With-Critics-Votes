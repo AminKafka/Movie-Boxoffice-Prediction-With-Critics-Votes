{
 "cells": [
  {
   "cell_type": "code",
   "execution_count": 1,
   "id": "394bfaf6",
   "metadata": {},
   "outputs": [
    {
     "name": "stdout",
     "output_type": "stream",
     "text": [
      "(15637, 5)\n",
      "                                         title  Worldwide_Lifetime_Gross  \\\n",
      "3   Star Wars: Episode VII - The Force Awakens                2069521700   \n",
      "5                               Jurassic World                1670516444   \n",
      "7                                 The Avengers                1518815515   \n",
      "8                                    Furious 7                1515341399   \n",
      "10                     Avengers: Age of Ultron                1402809540   \n",
      "\n",
      "   Domestic_Lifetime_Gross  Foreign_Lifetime_Gross  year  \n",
      "3                936662225              1132859475  2015  \n",
      "5                652385625              1018130819  2015  \n",
      "7                623357910               895457605  2012  \n",
      "8                353007020              1162334379  2015  \n",
      "10               459005868               943803672  2015  \n"
     ]
    },
    {
     "name": "stderr",
     "output_type": "stream",
     "text": [
      "/opt/anaconda3/lib/python3.8/site-packages/pandas/core/frame.py:4308: SettingWithCopyWarning: \n",
      "A value is trying to be set on a copy of a slice from a DataFrame\n",
      "\n",
      "See the caveats in the documentation: https://pandas.pydata.org/pandas-docs/stable/user_guide/indexing.html#returning-a-view-versus-a-copy\n",
      "  return super().drop(\n"
     ]
    }
   ],
   "source": [
    "import pandas as pd\n",
    "\n",
    "mojo = pd.read_csv('/Users/Amin/Documents/GitHub/Movie_boxoffice_reviews/data/raw/mojoworldwide.csv')\n",
    "mojo_clean =  mojo[ (mojo['year'] >= 2010) & (mojo['year'] < 2017)]\n",
    "mojo_clean.drop(columns = ['rank','Domestic_%','Foreign_%'], inplace=True,)\n",
    "\n",
    "print(mojo_clean.shape)\n",
    "print(mojo_clean.head())\n",
    "\n",
    "mojo_clean.to_csv('/Users/Amin/Documents/GitHub/Movie_boxoffice_reviews/data/interim/Mojo_alt.csv')"
   ]
  },
  {
   "cell_type": "code",
   "execution_count": null,
   "id": "9c1a8c88",
   "metadata": {},
   "outputs": [],
   "source": []
  },
  {
   "cell_type": "code",
   "execution_count": null,
   "id": "8ee61dfe",
   "metadata": {},
   "outputs": [],
   "source": []
  }
 ],
 "metadata": {
  "kernelspec": {
   "display_name": "Python 3",
   "language": "python",
   "name": "python3"
  },
  "language_info": {
   "codemirror_mode": {
    "name": "ipython",
    "version": 3
   },
   "file_extension": ".py",
   "mimetype": "text/x-python",
   "name": "python",
   "nbconvert_exporter": "python",
   "pygments_lexer": "ipython3",
   "version": "3.8.8"
  }
 },
 "nbformat": 4,
 "nbformat_minor": 5
}
