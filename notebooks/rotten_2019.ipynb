{
 "cells": [
  {
   "cell_type": "code",
   "execution_count": 17,
   "id": "266cb0c7",
   "metadata": {},
   "outputs": [
    {
     "name": "stdout",
     "output_type": "stream",
     "text": [
      "(1761, 14)\n"
     ]
    },
    {
     "name": "stderr",
     "output_type": "stream",
     "text": [
      "/opt/anaconda3/lib/python3.8/site-packages/pandas/core/frame.py:4308: SettingWithCopyWarning: \n",
      "A value is trying to be set on a copy of a slice from a DataFrame\n",
      "\n",
      "See the caveats in the documentation: https://pandas.pydata.org/pandas-docs/stable/user_guide/indexing.html#returning-a-view-versus-a-copy\n",
      "  return super().drop(\n"
     ]
    }
   ],
   "source": [
    "import pandas as pd\n",
    "\n",
    "df = pd.read_csv('../Rotten Tomato/rotten_tomatoes_movies.csv')\n",
    "df['original_release_date'] = pd.to_datetime(df['original_release_date'])\n",
    "#print( df.groupby ( df['original_release_date'].dt.year).agg({'count'}))\n",
    "df['year'] = df['original_release_date'].dt.year\n",
    "df_new = df[ (df['year'] == 2019) | (df['year'] == 2018)|(df['year'] == 2017)]\n",
    "df_new.drop(columns=['rotten_tomatoes_link','movie_info','critics_consensus','content_rating','genres','authors','actors','streaming_release_date','streaming_release_date','production_company'],inplace=True)\n",
    "print (df_new.shape)\n",
    "df_new.to_csv('../Rotten Tomato/RT_clean.csv')"
   ]
  },
  {
   "cell_type": "code",
   "execution_count": null,
   "id": "092a96e3",
   "metadata": {},
   "outputs": [],
   "source": []
  }
 ],
 "metadata": {
  "kernelspec": {
   "display_name": "Python 3",
   "language": "python",
   "name": "python3"
  },
  "language_info": {
   "codemirror_mode": {
    "name": "ipython",
    "version": 3
   },
   "file_extension": ".py",
   "mimetype": "text/x-python",
   "name": "python",
   "nbconvert_exporter": "python",
   "pygments_lexer": "ipython3",
   "version": "3.8.8"
  }
 },
 "nbformat": 4,
 "nbformat_minor": 5
}
