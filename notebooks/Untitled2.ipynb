{
 "cells": [
  {
   "cell_type": "code",
   "execution_count": 13,
   "id": "015dca29",
   "metadata": {},
   "outputs": [
    {
     "name": "stdout",
     "output_type": "stream",
     "text": [
      "(1705, 7)\n",
      "       imdbID                    Title                              Director  \\\n",
      "0   tt6803046        The Vast of Night                      Andrew Patterson   \n",
      "4   tt7798634             Ready or Not  Matt Bettinelli-Olpin, Tyler Gillett   \n",
      "5   tt7798644             Judy & Punch                        Mirrah Foulkes   \n",
      "8   tt7802246            The Last Tree                            Shola Amoo   \n",
      "12  tt7818580  Mientras dure la guerra                    Alejandro Amenábar   \n",
      "\n",
      "    Year     Released  Runtime  Metascore  \n",
      "0   2019  29 May 2020   91 min       84.0  \n",
      "4   2019  21 Aug 2019   95 min       64.0  \n",
      "5   2019  05 Jun 2020  105 min       59.0  \n",
      "8   2019  27 Sep 2019   98 min       67.0  \n",
      "12  2019  27 Sep 2019  107 min       55.0  \n"
     ]
    },
    {
     "name": "stderr",
     "output_type": "stream",
     "text": [
      "<ipython-input-13-42be26c0d2e0>:5: SettingWithCopyWarning: \n",
      "A value is trying to be set on a copy of a slice from a DataFrame\n",
      "\n",
      "See the caveats in the documentation: https://pandas.pydata.org/pandas-docs/stable/user_guide/indexing.html#returning-a-view-versus-a-copy\n",
      "  omdb_clean.dropna(subset=['Metascore'],inplace = True)\n",
      "/opt/anaconda3/lib/python3.8/site-packages/pandas/core/series.py:4463: SettingWithCopyWarning: \n",
      "A value is trying to be set on a copy of a slice from a DataFrame\n",
      "\n",
      "See the caveats in the documentation: https://pandas.pydata.org/pandas-docs/stable/user_guide/indexing.html#returning-a-view-versus-a-copy\n",
      "  return super().fillna(\n"
     ]
    }
   ],
   "source": [
    "import pandas as pd\n",
    "\n",
    "omdb = pd.read_csv('/Users/Amin/Documents/GitHub/Movie_boxoffice_reviews/data/raw/OMDB.csv')\n",
    "omdb_clean = omdb[['imdbID','Title','Director','Year','Released','Runtime','Metascore']]\n",
    "omdb_clean.dropna(subset=['Metascore'],inplace = True)\n",
    "omdb_clean['Released'].fillna(omdb_clean['Year'],inplace=True)\n",
    "print(omdb_clean.shape)\n",
    "print(omdb_clean.head())"
   ]
  },
  {
   "cell_type": "code",
   "execution_count": null,
   "id": "38145b09",
   "metadata": {},
   "outputs": [],
   "source": []
  }
 ],
 "metadata": {
  "kernelspec": {
   "display_name": "Python 3",
   "language": "python",
   "name": "python3"
  },
  "language_info": {
   "codemirror_mode": {
    "name": "ipython",
    "version": 3
   },
   "file_extension": ".py",
   "mimetype": "text/x-python",
   "name": "python",
   "nbconvert_exporter": "python",
   "pygments_lexer": "ipython3",
   "version": "3.8.8"
  }
 },
 "nbformat": 4,
 "nbformat_minor": 5
}
