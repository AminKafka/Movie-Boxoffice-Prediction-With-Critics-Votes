{
 "cells": [
  {
   "cell_type": "code",
   "execution_count": 47,
   "id": "a9fa804f",
   "metadata": {},
   "outputs": [
    {
     "name": "stdout",
     "output_type": "stream",
     "text": [
      "(9298, 5)\n",
      "                     title  Worldwide_Lifetime_Gross Domestic_Lifetime_Gross  \\\n",
      "1        Avengers: Endgame                2797501328               858373000   \n",
      "4   Avengers: Infinity War                2048359754               678815482   \n",
      "6            The Lion King                1667635327               543638043   \n",
      "9                Frozen II                1450026933               477373578   \n",
      "11           Black Panther                1347597973               700426566   \n",
      "\n",
      "    Foreign_Lifetime_Gross  year  \n",
      "1               1939128328  2019  \n",
      "4               1369544272  2018  \n",
      "6               1123997284  2019  \n",
      "9                972653355  2019  \n",
      "11               647171407  2018  \n"
     ]
    },
    {
     "name": "stderr",
     "output_type": "stream",
     "text": [
      "/opt/anaconda3/lib/python3.8/site-packages/pandas/core/frame.py:4308: SettingWithCopyWarning: \n",
      "A value is trying to be set on a copy of a slice from a DataFrame\n",
      "\n",
      "See the caveats in the documentation: https://pandas.pydata.org/pandas-docs/stable/user_guide/indexing.html#returning-a-view-versus-a-copy\n",
      "  return super().drop(\n"
     ]
    }
   ],
   "source": [
    "import pandas as pd\n",
    "\n",
    "mojo = pd.read_csv('/Users/Amin/Documents/GitHub/Movie_boxoffice_reviews/data/raw/mojoworldwide.csv')\n",
    "mojo_clean =  mojo[ (mojo['year'] == 2019) | (mojo['year'] == 2018)|(mojo['year'] == 2017)]\n",
    "mojo_clean.drop(columns = ['rank','Domestic_%','Foreign_%'], inplace=True,)\n",
    "print(mojo_clean.shape)\n",
    "print(mojo_clean.head())\n",
    "\n",
    "mojo_clean.to_csv('/Users/Amin/Documents/GitHub/Movie_boxoffice_reviews/data/interim/Mojo_clean.csv')"
   ]
  },
  {
   "cell_type": "code",
   "execution_count": null,
   "id": "c9716866",
   "metadata": {},
   "outputs": [],
   "source": []
  },
  {
   "cell_type": "code",
   "execution_count": null,
   "id": "4ea6ab32",
   "metadata": {},
   "outputs": [],
   "source": []
  }
 ],
 "metadata": {
  "kernelspec": {
   "display_name": "Python 3",
   "language": "python",
   "name": "python3"
  },
  "language_info": {
   "codemirror_mode": {
    "name": "ipython",
    "version": 3
   },
   "file_extension": ".py",
   "mimetype": "text/x-python",
   "name": "python",
   "nbconvert_exporter": "python",
   "pygments_lexer": "ipython3",
   "version": "3.8.8"
  }
 },
 "nbformat": 4,
 "nbformat_minor": 5
}
