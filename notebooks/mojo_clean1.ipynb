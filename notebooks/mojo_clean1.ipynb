{
 "cells": [
  {
   "cell_type": "code",
   "execution_count": 1,
   "id": "4d6f07e4",
   "metadata": {},
   "outputs": [
    {
     "name": "stdout",
     "output_type": "stream",
     "text": [
      "2019    3228\n",
      "2018    3095\n",
      "2017    2975\n",
      "2016    2900\n",
      "2008    2666\n",
      "        ... \n",
      "1929       1\n",
      "1943       1\n",
      "1928       1\n",
      "1927       1\n",
      "1925       1\n",
      "Name: year, Length: 96, dtype: int64\n"
     ]
    }
   ],
   "source": [
    "import pandas as pd\n",
    "data = pd.read_csv('../data/file.csv')\n",
    "df=pd.DataFrame(data)\n",
    "line=pd.DataFrame({'rank':'1','title':'Avatar','Worldwide_Lifetime_Gross':'2847246203','Domestic_Lifetime_Gross':'760507625','Domestic_%':'26.7%','Foreign_Lifetime_Gross':'2086738578','Foreign_%' :'73.3%','year':'2009'},index=[0])\n",
    "df2 = pd.concat([line,df],ignore_index=True)\n",
    "df2['rank'].replace(',','', regex=True, inplace=True)\n",
    "#print(df2[df2['rank'].isna()])\n",
    "df2 = df2.astype({'rank': int, 'title': str,'Worldwide_Lifetime_Gross':int,'year':int})\n",
    "\n",
    "print(df2['year'].value_counts())\n",
    "df2.to_csv('../data/mojoworldwide.csv', index=False)"
   ]
  }
 ],
 "metadata": {
  "kernelspec": {
   "display_name": "Python 3",
   "language": "python",
   "name": "python3"
  },
  "language_info": {
   "codemirror_mode": {
    "name": "ipython",
    "version": 3
   },
   "file_extension": ".py",
   "mimetype": "text/x-python",
   "name": "python",
   "nbconvert_exporter": "python",
   "pygments_lexer": "ipython3",
   "version": "3.8.8"
  }
 },
 "nbformat": 4,
 "nbformat_minor": 5
}
