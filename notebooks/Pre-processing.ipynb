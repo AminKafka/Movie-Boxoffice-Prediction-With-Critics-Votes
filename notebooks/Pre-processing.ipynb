{
 "cells": [
  {
   "cell_type": "markdown",
   "id": "1a07e4db",
   "metadata": {},
   "source": [
    "# Pre-processing & Training Data Development :\n",
    "#### Amin Khoeini\n",
    "\n",
    "***"
   ]
  },
  {
   "cell_type": "code",
   "execution_count": 147,
   "id": "ff834078",
   "metadata": {},
   "outputs": [],
   "source": [
    "import pandas as pd\n",
    "import numpy as np\n",
    "import matplotlib.pyplot as plt\n",
    "import seaborn as sns\n",
    "import sklearn\n",
    "from sklearn.model_selection import train_test_split, cross_validate, GridSearchCV,cross_val_score\n",
    "from sklearn.linear_model import LinearRegression\n",
    "from sklearn.ensemble import RandomForestRegressor\n",
    "from sklearn.dummy import DummyRegressor\n",
    "from sklearn.preprocessing import StandardScaler\n",
    "from sklearn.feature_selection import SelectKBest, f_regression\n",
    "from sklearn.pipeline import make_pipeline\n",
    "from sklearn.metrics import r2_score, mean_squared_error, mean_absolute_error\n"
   ]
  },
  {
   "cell_type": "code",
   "execution_count": 54,
   "id": "43cf1f83",
   "metadata": {},
   "outputs": [],
   "source": [
    "movie_score = pd.read_csv('/Users/Amin/Documents/GitHub/Movie_boxoffice_reviews/data/processed/pre_process_db.csv')"
   ]
  },
  {
   "cell_type": "code",
   "execution_count": 55,
   "id": "b6f0a6e0",
   "metadata": {},
   "outputs": [
    {
     "data": {
      "text/html": [
       "<div>\n",
       "<style scoped>\n",
       "    .dataframe tbody tr th:only-of-type {\n",
       "        vertical-align: middle;\n",
       "    }\n",
       "\n",
       "    .dataframe tbody tr th {\n",
       "        vertical-align: top;\n",
       "    }\n",
       "\n",
       "    .dataframe thead th {\n",
       "        text-align: right;\n",
       "    }\n",
       "</style>\n",
       "<table border=\"1\" class=\"dataframe\">\n",
       "  <thead>\n",
       "    <tr style=\"text-align: right;\">\n",
       "      <th></th>\n",
       "      <th>All_time_gross</th>\n",
       "      <th>tom_cri_score</th>\n",
       "      <th>tom_aud_score</th>\n",
       "      <th>met_cri_score</th>\n",
       "      <th>met_aud_score</th>\n",
       "      <th>imdb_score</th>\n",
       "      <th>imdb_us_score</th>\n",
       "      <th>imdb_fem_score</th>\n",
       "      <th>class</th>\n",
       "    </tr>\n",
       "  </thead>\n",
       "  <tbody>\n",
       "    <tr>\n",
       "      <th>0</th>\n",
       "      <td>62832209</td>\n",
       "      <td>11.180385</td>\n",
       "      <td>0.248638</td>\n",
       "      <td>28.000000</td>\n",
       "      <td>0.536788</td>\n",
       "      <td>2.064492</td>\n",
       "      <td>1.947460</td>\n",
       "      <td>3.230484</td>\n",
       "      <td>Average</td>\n",
       "    </tr>\n",
       "    <tr>\n",
       "      <th>1</th>\n",
       "      <td>428028233</td>\n",
       "      <td>24.294221</td>\n",
       "      <td>0.290463</td>\n",
       "      <td>33.000000</td>\n",
       "      <td>1.651263</td>\n",
       "      <td>4.196134</td>\n",
       "      <td>4.240490</td>\n",
       "      <td>3.140899</td>\n",
       "      <td>Average</td>\n",
       "    </tr>\n",
       "    <tr>\n",
       "      <th>2</th>\n",
       "      <td>225973340</td>\n",
       "      <td>24.462347</td>\n",
       "      <td>0.620494</td>\n",
       "      <td>36.550000</td>\n",
       "      <td>4.073777</td>\n",
       "      <td>5.110510</td>\n",
       "      <td>4.514100</td>\n",
       "      <td>4.154062</td>\n",
       "      <td>Average</td>\n",
       "    </tr>\n",
       "    <tr>\n",
       "      <th>3</th>\n",
       "      <td>42213</td>\n",
       "      <td>1.821366</td>\n",
       "      <td>0.002707</td>\n",
       "      <td>4.783333</td>\n",
       "      <td>0.025261</td>\n",
       "      <td>0.051761</td>\n",
       "      <td>0.079159</td>\n",
       "      <td>0.053576</td>\n",
       "      <td>Indie</td>\n",
       "    </tr>\n",
       "    <tr>\n",
       "      <th>4</th>\n",
       "      <td>880166924</td>\n",
       "      <td>62.353765</td>\n",
       "      <td>3.963631</td>\n",
       "      <td>59.616667</td>\n",
       "      <td>17.351644</td>\n",
       "      <td>18.251734</td>\n",
       "      <td>17.747966</td>\n",
       "      <td>13.584817</td>\n",
       "      <td>Blockbuster</td>\n",
       "    </tr>\n",
       "  </tbody>\n",
       "</table>\n",
       "</div>"
      ],
      "text/plain": [
       "   All_time_gross  tom_cri_score  tom_aud_score  met_cri_score  met_aud_score  \\\n",
       "0        62832209      11.180385       0.248638      28.000000       0.536788   \n",
       "1       428028233      24.294221       0.290463      33.000000       1.651263   \n",
       "2       225973340      24.462347       0.620494      36.550000       4.073777   \n",
       "3           42213       1.821366       0.002707       4.783333       0.025261   \n",
       "4       880166924      62.353765       3.963631      59.616667      17.351644   \n",
       "\n",
       "   imdb_score  imdb_us_score  imdb_fem_score        class  \n",
       "0    2.064492       1.947460        3.230484      Average  \n",
       "1    4.196134       4.240490        3.140899      Average  \n",
       "2    5.110510       4.514100        4.154062      Average  \n",
       "3    0.051761       0.079159        0.053576        Indie  \n",
       "4   18.251734      17.747966       13.584817  Blockbuster  "
      ]
     },
     "execution_count": 55,
     "metadata": {},
     "output_type": "execute_result"
    }
   ],
   "source": [
    "movie_score.head()"
   ]
  },
  {
   "cell_type": "code",
   "execution_count": 56,
   "id": "1b4e76af",
   "metadata": {},
   "outputs": [
    {
     "data": {
      "text/html": [
       "<div>\n",
       "<style scoped>\n",
       "    .dataframe tbody tr th:only-of-type {\n",
       "        vertical-align: middle;\n",
       "    }\n",
       "\n",
       "    .dataframe tbody tr th {\n",
       "        vertical-align: top;\n",
       "    }\n",
       "\n",
       "    .dataframe thead th {\n",
       "        text-align: right;\n",
       "    }\n",
       "</style>\n",
       "<table border=\"1\" class=\"dataframe\">\n",
       "  <thead>\n",
       "    <tr style=\"text-align: right;\">\n",
       "      <th></th>\n",
       "      <th>count</th>\n",
       "      <th>mean</th>\n",
       "      <th>std</th>\n",
       "      <th>min</th>\n",
       "      <th>25%</th>\n",
       "      <th>50%</th>\n",
       "      <th>75%</th>\n",
       "      <th>max</th>\n",
       "    </tr>\n",
       "  </thead>\n",
       "  <tbody>\n",
       "    <tr>\n",
       "      <th>All_time_gross</th>\n",
       "      <td>3276.0</td>\n",
       "      <td>7.193749e+07</td>\n",
       "      <td>1.885635e+08</td>\n",
       "      <td>177.0</td>\n",
       "      <td>223421.250000</td>\n",
       "      <td>3.471091e+06</td>\n",
       "      <td>4.905136e+07</td>\n",
       "      <td>2.797501e+09</td>\n",
       "    </tr>\n",
       "    <tr>\n",
       "      <th>tom_cri_score</th>\n",
       "      <td>3276.0</td>\n",
       "      <td>1.249701e+01</td>\n",
       "      <td>1.423395e+01</td>\n",
       "      <td>0.0</td>\n",
       "      <td>2.230298</td>\n",
       "      <td>7.021891e+00</td>\n",
       "      <td>1.815762e+01</td>\n",
       "      <td>8.664799e+01</td>\n",
       "    </tr>\n",
       "    <tr>\n",
       "      <th>tom_aud_score</th>\n",
       "      <td>3276.0</td>\n",
       "      <td>8.185137e-01</td>\n",
       "      <td>2.460268e+00</td>\n",
       "      <td>0.0</td>\n",
       "      <td>0.010045</td>\n",
       "      <td>8.998959e-02</td>\n",
       "      <td>6.448805e-01</td>\n",
       "      <td>7.600000e+01</td>\n",
       "    </tr>\n",
       "    <tr>\n",
       "      <th>met_cri_score</th>\n",
       "      <td>3276.0</td>\n",
       "      <td>2.129538e+01</td>\n",
       "      <td>1.727440e+01</td>\n",
       "      <td>0.0</td>\n",
       "      <td>7.066667</td>\n",
       "      <td>1.700000e+01</td>\n",
       "      <td>3.230000e+01</td>\n",
       "      <td>8.800000e+01</td>\n",
       "    </tr>\n",
       "    <tr>\n",
       "      <th>met_aud_score</th>\n",
       "      <td>3276.0</td>\n",
       "      <td>1.350672e+00</td>\n",
       "      <td>3.828720e+00</td>\n",
       "      <td>0.0</td>\n",
       "      <td>0.054531</td>\n",
       "      <td>2.278970e-01</td>\n",
       "      <td>9.817061e-01</td>\n",
       "      <td>6.473937e+01</td>\n",
       "    </tr>\n",
       "    <tr>\n",
       "      <th>imdb_score</th>\n",
       "      <td>3276.0</td>\n",
       "      <td>2.382261e+00</td>\n",
       "      <td>5.223244e+00</td>\n",
       "      <td>0.0</td>\n",
       "      <td>0.102347</td>\n",
       "      <td>4.957343e-01</td>\n",
       "      <td>2.258575e+00</td>\n",
       "      <td>8.800000e+01</td>\n",
       "    </tr>\n",
       "    <tr>\n",
       "      <th>imdb_us_score</th>\n",
       "      <td>3276.0</td>\n",
       "      <td>2.512044e+00</td>\n",
       "      <td>5.139497e+00</td>\n",
       "      <td>0.0</td>\n",
       "      <td>0.137849</td>\n",
       "      <td>5.819906e-01</td>\n",
       "      <td>2.478241e+00</td>\n",
       "      <td>8.700000e+01</td>\n",
       "    </tr>\n",
       "    <tr>\n",
       "      <th>imdb_fem_score</th>\n",
       "      <td>3276.0</td>\n",
       "      <td>2.682522e+00</td>\n",
       "      <td>5.538160e+00</td>\n",
       "      <td>0.0</td>\n",
       "      <td>0.119661</td>\n",
       "      <td>5.900872e-01</td>\n",
       "      <td>2.615517e+00</td>\n",
       "      <td>8.600000e+01</td>\n",
       "    </tr>\n",
       "  </tbody>\n",
       "</table>\n",
       "</div>"
      ],
      "text/plain": [
       "                 count          mean           std    min            25%  \\\n",
       "All_time_gross  3276.0  7.193749e+07  1.885635e+08  177.0  223421.250000   \n",
       "tom_cri_score   3276.0  1.249701e+01  1.423395e+01    0.0       2.230298   \n",
       "tom_aud_score   3276.0  8.185137e-01  2.460268e+00    0.0       0.010045   \n",
       "met_cri_score   3276.0  2.129538e+01  1.727440e+01    0.0       7.066667   \n",
       "met_aud_score   3276.0  1.350672e+00  3.828720e+00    0.0       0.054531   \n",
       "imdb_score      3276.0  2.382261e+00  5.223244e+00    0.0       0.102347   \n",
       "imdb_us_score   3276.0  2.512044e+00  5.139497e+00    0.0       0.137849   \n",
       "imdb_fem_score  3276.0  2.682522e+00  5.538160e+00    0.0       0.119661   \n",
       "\n",
       "                         50%           75%           max  \n",
       "All_time_gross  3.471091e+06  4.905136e+07  2.797501e+09  \n",
       "tom_cri_score   7.021891e+00  1.815762e+01  8.664799e+01  \n",
       "tom_aud_score   8.998959e-02  6.448805e-01  7.600000e+01  \n",
       "met_cri_score   1.700000e+01  3.230000e+01  8.800000e+01  \n",
       "met_aud_score   2.278970e-01  9.817061e-01  6.473937e+01  \n",
       "imdb_score      4.957343e-01  2.258575e+00  8.800000e+01  \n",
       "imdb_us_score   5.819906e-01  2.478241e+00  8.700000e+01  \n",
       "imdb_fem_score  5.900872e-01  2.615517e+00  8.600000e+01  "
      ]
     },
     "execution_count": 56,
     "metadata": {},
     "output_type": "execute_result"
    }
   ],
   "source": [
    "movie_score.describe().T"
   ]
  },
  {
   "cell_type": "code",
   "execution_count": 57,
   "id": "b5abfa47",
   "metadata": {},
   "outputs": [],
   "source": [
    "#Save the class of the movies as movie_class then drop it from the data\n",
    "\n",
    "movie_class = movie_score['class']\n",
    "movie_score.drop(columns='class',inplace=True)"
   ]
  },
  {
   "cell_type": "code",
   "execution_count": 58,
   "id": "b9fcfa68",
   "metadata": {},
   "outputs": [],
   "source": [
    "#split the data to train/test set. 80% train and 20% test.\n",
    "X_train, X_test, y_train, y_test = train_test_split(movie_score.drop(columns='All_time_gross'), \n",
    "                                                    critics_score.All_time_gross, test_size=0.2, \n",
    "                                                    random_state=47)"
   ]
  },
  {
   "cell_type": "code",
   "execution_count": 60,
   "id": "e7ad46b7",
   "metadata": {},
   "outputs": [
    {
     "data": {
      "text/plain": [
       "((2620, 7), (2620,))"
      ]
     },
     "execution_count": 60,
     "metadata": {},
     "output_type": "execute_result"
    }
   ],
   "source": [
    "X_train.shape,y_train.shape"
   ]
  },
  {
   "cell_type": "code",
   "execution_count": 234,
   "id": "a192410a",
   "metadata": {},
   "outputs": [
    {
     "data": {
      "text/plain": [
       "((656, 7), (656,))"
      ]
     },
     "execution_count": 234,
     "metadata": {},
     "output_type": "execute_result"
    }
   ],
   "source": [
    "X_test.shape,y_test.shape"
   ]
  },
  {
   "cell_type": "code",
   "execution_count": 61,
   "id": "a36ba80b",
   "metadata": {},
   "outputs": [
    {
     "data": {
      "text/html": [
       "<div>\n",
       "<style scoped>\n",
       "    .dataframe tbody tr th:only-of-type {\n",
       "        vertical-align: middle;\n",
       "    }\n",
       "\n",
       "    .dataframe tbody tr th {\n",
       "        vertical-align: top;\n",
       "    }\n",
       "\n",
       "    .dataframe thead th {\n",
       "        text-align: right;\n",
       "    }\n",
       "</style>\n",
       "<table border=\"1\" class=\"dataframe\">\n",
       "  <thead>\n",
       "    <tr style=\"text-align: right;\">\n",
       "      <th></th>\n",
       "      <th>tom_cri_score</th>\n",
       "      <th>tom_aud_score</th>\n",
       "      <th>met_cri_score</th>\n",
       "      <th>met_aud_score</th>\n",
       "      <th>imdb_score</th>\n",
       "      <th>imdb_us_score</th>\n",
       "      <th>imdb_fem_score</th>\n",
       "    </tr>\n",
       "  </thead>\n",
       "  <tbody>\n",
       "    <tr>\n",
       "      <th>409</th>\n",
       "      <td>4.609457</td>\n",
       "      <td>0.008060</td>\n",
       "      <td>5.833333</td>\n",
       "      <td>0.198276</td>\n",
       "      <td>0.465330</td>\n",
       "      <td>0.559373</td>\n",
       "      <td>0.326985</td>\n",
       "    </tr>\n",
       "    <tr>\n",
       "      <th>837</th>\n",
       "      <td>4.728546</td>\n",
       "      <td>0.001306</td>\n",
       "      <td>10.616667</td>\n",
       "      <td>0.063853</td>\n",
       "      <td>0.005592</td>\n",
       "      <td>0.022488</td>\n",
       "      <td>0.002129</td>\n",
       "    </tr>\n",
       "    <tr>\n",
       "      <th>936</th>\n",
       "      <td>5.528897</td>\n",
       "      <td>0.003169</td>\n",
       "      <td>7.000000</td>\n",
       "      <td>0.069767</td>\n",
       "      <td>0.088650</td>\n",
       "      <td>0.170548</td>\n",
       "      <td>0.068022</td>\n",
       "    </tr>\n",
       "    <tr>\n",
       "      <th>1155</th>\n",
       "      <td>7.040280</td>\n",
       "      <td>0.001348</td>\n",
       "      <td>17.850000</td>\n",
       "      <td>0.091419</td>\n",
       "      <td>0.143119</td>\n",
       "      <td>0.135088</td>\n",
       "      <td>0.108062</td>\n",
       "    </tr>\n",
       "    <tr>\n",
       "      <th>1873</th>\n",
       "      <td>8.798599</td>\n",
       "      <td>0.902951</td>\n",
       "      <td>20.000000</td>\n",
       "      <td>0.972534</td>\n",
       "      <td>4.719027</td>\n",
       "      <td>4.780446</td>\n",
       "      <td>4.705971</td>\n",
       "    </tr>\n",
       "  </tbody>\n",
       "</table>\n",
       "</div>"
      ],
      "text/plain": [
       "      tom_cri_score  tom_aud_score  met_cri_score  met_aud_score  imdb_score  \\\n",
       "409        4.609457       0.008060       5.833333       0.198276    0.465330   \n",
       "837        4.728546       0.001306      10.616667       0.063853    0.005592   \n",
       "936        5.528897       0.003169       7.000000       0.069767    0.088650   \n",
       "1155       7.040280       0.001348      17.850000       0.091419    0.143119   \n",
       "1873       8.798599       0.902951      20.000000       0.972534    4.719027   \n",
       "\n",
       "      imdb_us_score  imdb_fem_score  \n",
       "409        0.559373        0.326985  \n",
       "837        0.022488        0.002129  \n",
       "936        0.170548        0.068022  \n",
       "1155       0.135088        0.108062  \n",
       "1873       4.780446        4.705971  "
      ]
     },
     "execution_count": 61,
     "metadata": {},
     "output_type": "execute_result"
    }
   ],
   "source": [
    "X_train.head()"
   ]
  },
  {
   "cell_type": "code",
   "execution_count": 62,
   "id": "5420de68",
   "metadata": {},
   "outputs": [
    {
     "data": {
      "text/plain": [
       "tom_cri_score     float64\n",
       "tom_aud_score     float64\n",
       "met_cri_score     float64\n",
       "met_aud_score     float64\n",
       "imdb_score        float64\n",
       "imdb_us_score     float64\n",
       "imdb_fem_score    float64\n",
       "dtype: object"
      ]
     },
     "execution_count": 62,
     "metadata": {},
     "output_type": "execute_result"
    }
   ],
   "source": [
    "#check the type to make sure all is numeric\n",
    "X_train.dtypes"
   ]
  },
  {
   "cell_type": "code",
   "execution_count": 63,
   "id": "26e3eb6f",
   "metadata": {},
   "outputs": [
    {
     "data": {
      "text/plain": [
       "tom_cri_score     float64\n",
       "tom_aud_score     float64\n",
       "met_cri_score     float64\n",
       "met_aud_score     float64\n",
       "imdb_score        float64\n",
       "imdb_us_score     float64\n",
       "imdb_fem_score    float64\n",
       "dtype: object"
      ]
     },
     "execution_count": 63,
     "metadata": {},
     "output_type": "execute_result"
    }
   ],
   "source": [
    "X_test.dtypes"
   ]
  },
  {
   "cell_type": "markdown",
   "id": "38e05dee",
   "metadata": {},
   "source": [
    "## Make a Dummy Regresor and perdict the box-office of the movie by mean of the dataset"
   ]
  },
  {
   "cell_type": "code",
   "execution_count": 67,
   "id": "17390f05",
   "metadata": {},
   "outputs": [
    {
     "data": {
      "text/plain": [
       "array([[67641209.]])"
      ]
     },
     "execution_count": 67,
     "metadata": {},
     "output_type": "execute_result"
    }
   ],
   "source": [
    "dumb_reg = DummyRegressor(strategy='mean')\n",
    "dumb_reg.fit(X_train,y_train)\n",
    "np.round(dumb_reg.constant_)"
   ]
  },
  {
   "cell_type": "code",
   "execution_count": 70,
   "id": "2f47b2ae",
   "metadata": {},
   "outputs": [
    {
     "data": {
      "text/plain": [
       "array([67641208.62099236, 67641208.62099236, 67641208.62099236,\n",
       "       67641208.62099236, 67641208.62099236])"
      ]
     },
     "execution_count": 70,
     "metadata": {},
     "output_type": "execute_result"
    }
   ],
   "source": [
    "y_pred_dummy = dumb_reg.predict(X_train)\n",
    "y_pred_dummy[0:5]"
   ]
  },
  {
   "cell_type": "code",
   "execution_count": 71,
   "id": "9294ee60",
   "metadata": {},
   "outputs": [
    {
     "data": {
      "text/plain": [
       "92900147.16696812"
      ]
     },
     "execution_count": 71,
     "metadata": {},
     "output_type": "execute_result"
    }
   ],
   "source": [
    "mean_absolute_error(y_train,y_pred_dummy)"
   ]
  },
  {
   "cell_type": "code",
   "execution_count": 72,
   "id": "4c013577",
   "metadata": {},
   "outputs": [
    {
     "data": {
      "text/plain": [
       "3.066382737065213e+16"
      ]
     },
     "execution_count": 72,
     "metadata": {},
     "output_type": "execute_result"
    }
   ],
   "source": [
    "mean_squared_error(y_train,y_pred_dummy)"
   ]
  },
  {
   "cell_type": "code",
   "execution_count": 73,
   "id": "9b256100",
   "metadata": {},
   "outputs": [
    {
     "data": {
      "text/plain": [
       "0.0"
      ]
     },
     "execution_count": 73,
     "metadata": {},
     "output_type": "execute_result"
    }
   ],
   "source": [
    "r2_score(y_train,y_pred_dummy)"
   ]
  },
  {
   "cell_type": "markdown",
   "id": "573cb2bd",
   "metadata": {},
   "source": [
    "If the prediction for all movie box-office is just the mean of the dataset, we will see 92 Million dollars as a margine of a error. While most of the movies are in Indie class with box-ofiice less than 2 Million we need error margine to be way less than that value."
   ]
  },
  {
   "cell_type": "markdown",
   "id": "212d251a",
   "metadata": {},
   "source": [
    "### LinearRegression"
   ]
  },
  {
   "cell_type": "code",
   "execution_count": 92,
   "id": "8c47a25f",
   "metadata": {},
   "outputs": [
    {
     "data": {
      "text/plain": [
       "dict_keys(['memory', 'steps', 'verbose', 'standardscaler', 'selectkbest', 'linearregression', 'standardscaler__copy', 'standardscaler__with_mean', 'standardscaler__with_std', 'selectkbest__k', 'selectkbest__score_func', 'linearregression__copy_X', 'linearregression__fit_intercept', 'linearregression__n_jobs', 'linearregression__normalize', 'linearregression__positive'])"
      ]
     },
     "execution_count": 92,
     "metadata": {},
     "output_type": "execute_result"
    }
   ],
   "source": [
    "pipe1 = make_pipeline(\n",
    "    StandardScaler(),\n",
    "    SelectKBest(score_func=f_regression),\n",
    "    LinearRegression())\n",
    "\n",
    "pipe1.get_params().keys()"
   ]
  },
  {
   "cell_type": "code",
   "execution_count": 108,
   "id": "0554d011",
   "metadata": {},
   "outputs": [
    {
     "data": {
      "text/plain": [
       "{'standardscaler': [StandardScaler(), None],\n",
       " 'selectkbest__k': [1, 2, 3, 4, 5, 6, 7]}"
      ]
     },
     "execution_count": 108,
     "metadata": {},
     "output_type": "execute_result"
    }
   ],
   "source": [
    "k = [k+1 for k in range(len(X_train.columns))]\n",
    "grid_params = {\n",
    "                'standardscaler':[StandardScaler(),None],\n",
    "                'selectkbest__k' : k\n",
    "}\n",
    "grid_params"
   ]
  },
  {
   "cell_type": "code",
   "execution_count": 109,
   "id": "2da14545",
   "metadata": {},
   "outputs": [],
   "source": [
    "lr_grid_cv = GridSearchCV(pipe1, param_grid=grid_params, cv=5, n_jobs=-1)"
   ]
  },
  {
   "cell_type": "code",
   "execution_count": 110,
   "id": "996dd9a1",
   "metadata": {},
   "outputs": [
    {
     "data": {
      "text/plain": [
       "GridSearchCV(cv=5,\n",
       "             estimator=Pipeline(steps=[('standardscaler', StandardScaler()),\n",
       "                                       ('selectkbest',\n",
       "                                        SelectKBest(score_func=<function f_regression at 0x7fd87a43d670>)),\n",
       "                                       ('linearregression',\n",
       "                                        LinearRegression())]),\n",
       "             n_jobs=-1,\n",
       "             param_grid={'selectkbest__k': [1, 2, 3, 4, 5, 6, 7],\n",
       "                         'standardscaler': [StandardScaler(), None]})"
      ]
     },
     "execution_count": 110,
     "metadata": {},
     "output_type": "execute_result"
    }
   ],
   "source": [
    "lr_grid_cv.fit(X_train, y_train)"
   ]
  },
  {
   "cell_type": "code",
   "execution_count": 111,
   "id": "f943ba18",
   "metadata": {},
   "outputs": [
    {
     "data": {
      "text/plain": [
       "{'selectkbest__k': 4, 'standardscaler': StandardScaler()}"
      ]
     },
     "execution_count": 111,
     "metadata": {},
     "output_type": "execute_result"
    }
   ],
   "source": [
    "lr_grid_cv.best_params_"
   ]
  },
  {
   "cell_type": "code",
   "execution_count": 113,
   "id": "9dce0464",
   "metadata": {},
   "outputs": [],
   "source": [
    "score_mean = lr_grid_cv.cv_results_['mean_test_score']\n",
    "score_std = lr_grid_cv.cv_results_['std_test_score']\n",
    "cv_k = [k for k in lr_grid_cv.cv_results_['param_selectkbest__k']]"
   ]
  },
  {
   "cell_type": "code",
   "execution_count": 114,
   "id": "6fe0419e",
   "metadata": {},
   "outputs": [
    {
     "data": {
      "image/png": "[encoded data removed]",
      "text/plain": [
       "<Figure size 720x360 with 1 Axes>"
      ]
     },
     "metadata": {
      "needs_background": "light"
     },
     "output_type": "display_data"
    }
   ],
   "source": [
    "best_k = lr_grid_cv.best_params_['selectkbest__k']\n",
    "plt.subplots(figsize=(10, 5))\n",
    "plt.errorbar(cv_k, score_mean, yerr=score_std)\n",
    "plt.axvline(x=best_k, c='r', ls='--', alpha=.5)\n",
    "plt.xlabel('k')\n",
    "plt.ylabel('CV score (r-squared)')\n",
    "plt.title('Pipeline mean CV score (error bars +/- 1sd)');"
   ]
  },
  {
   "cell_type": "code",
   "execution_count": 120,
   "id": "00d367c3",
   "metadata": {},
   "outputs": [
    {
     "data": {
      "text/plain": [
       "Index(['met_aud_score', 'imdb_score', 'imdb_us_score', 'imdb_fem_score'], dtype='object')"
      ]
     },
     "execution_count": 120,
     "metadata": {},
     "output_type": "execute_result"
    }
   ],
   "source": [
    "features = X_train.columns[lr_grid_cv.best_estimator_.named_steps.selectkbest.get_support()]\n",
    "features"
   ]
  },
  {
   "cell_type": "code",
   "execution_count": 121,
   "id": "a2bddb85",
   "metadata": {},
   "outputs": [
    {
     "data": {
      "text/plain": [
       "met_aud_score     7.948212e+07\n",
       "imdb_fem_score    3.379018e+07\n",
       "imdb_us_score     1.425553e+07\n",
       "imdb_score       -1.014899e+06\n",
       "dtype: float64"
      ]
     },
     "execution_count": 121,
     "metadata": {},
     "output_type": "execute_result"
    }
   ],
   "source": [
    "coefs = lr_grid_cv.best_estimator_.named_steps.linearregression.coef_\n",
    "pd.Series(coefs, index=features).sort_values(ascending=False)"
   ]
  },
  {
   "cell_type": "code",
   "execution_count": 126,
   "id": "517d0a2b",
   "metadata": {},
   "outputs": [],
   "source": [
    "pipe2 = make_pipeline(\n",
    "    StandardScaler(),\n",
    "    LinearRegression())"
   ]
  },
  {
   "cell_type": "code",
   "execution_count": 127,
   "id": "e3d93d18",
   "metadata": {},
   "outputs": [],
   "source": [
    "cv_results = cross_validate(pipe2, X_train, y_train, cv=5)"
   ]
  },
  {
   "cell_type": "code",
   "execution_count": 128,
   "id": "ca50531b",
   "metadata": {},
   "outputs": [
    {
     "data": {
      "text/plain": [
       "{'fit_time': array([0.01492214, 0.01020503, 0.00534391, 0.00649095, 0.00496411]),\n",
       " 'score_time': array([0.00384688, 0.00270581, 0.00332284, 0.00249505, 0.00213385]),\n",
       " 'test_score': array([0.58392304, 0.18345272, 0.39314641, 0.56254555, 0.5142563 ])}"
      ]
     },
     "execution_count": 128,
     "metadata": {},
     "output_type": "execute_result"
    }
   ],
   "source": [
    "cv_results"
   ]
  },
  {
   "cell_type": "code",
   "execution_count": 131,
   "id": "9cd849f4",
   "metadata": {},
   "outputs": [
    {
     "data": {
      "text/plain": [
       "(0.4474648037354204, 0.14763360075457832)"
      ]
     },
     "execution_count": 131,
     "metadata": {},
     "output_type": "execute_result"
    }
   ],
   "source": [
    "np.mean(cv_results['test_score']), np.std(cv_results['test_score'])"
   ]
  },
  {
   "cell_type": "code",
   "execution_count": 150,
   "id": "3f53029b",
   "metadata": {},
   "outputs": [
    {
     "data": {
      "text/plain": [
       "array([-52666553.19734148, -64696564.77598456, -57772180.69737028,\n",
       "       -57174983.71197143, -57795082.75827844])"
      ]
     },
     "execution_count": 150,
     "metadata": {},
     "output_type": "execute_result"
    }
   ],
   "source": [
    "mae = cross_val_score(pipe2, X_train, y_train, cv=5,scoring='neg_mean_absolute_error')\n",
    "mae"
   ]
  },
  {
   "cell_type": "code",
   "execution_count": 151,
   "id": "7840af39",
   "metadata": {},
   "outputs": [
    {
     "data": {
      "text/plain": [
       "-58021073.02818924"
      ]
     },
     "execution_count": 151,
     "metadata": {},
     "output_type": "execute_result"
    }
   ],
   "source": [
    "np.mean(mae)"
   ]
  },
  {
   "cell_type": "markdown",
   "id": "fc21a698",
   "metadata": {},
   "source": [
    "### Linear Regression on split data Critics vs Audience"
   ]
  },
  {
   "cell_type": "code",
   "execution_count": 133,
   "id": "79a1e82e",
   "metadata": {},
   "outputs": [
    {
     "data": {
      "text/html": [
       "<div>\n",
       "<style scoped>\n",
       "    .dataframe tbody tr th:only-of-type {\n",
       "        vertical-align: middle;\n",
       "    }\n",
       "\n",
       "    .dataframe tbody tr th {\n",
       "        vertical-align: top;\n",
       "    }\n",
       "\n",
       "    .dataframe thead th {\n",
       "        text-align: right;\n",
       "    }\n",
       "</style>\n",
       "<table border=\"1\" class=\"dataframe\">\n",
       "  <thead>\n",
       "    <tr style=\"text-align: right;\">\n",
       "      <th></th>\n",
       "      <th>tom_cri_score</th>\n",
       "      <th>met_cri_score</th>\n",
       "    </tr>\n",
       "  </thead>\n",
       "  <tbody>\n",
       "    <tr>\n",
       "      <th>409</th>\n",
       "      <td>4.609457</td>\n",
       "      <td>5.833333</td>\n",
       "    </tr>\n",
       "    <tr>\n",
       "      <th>837</th>\n",
       "      <td>4.728546</td>\n",
       "      <td>10.616667</td>\n",
       "    </tr>\n",
       "    <tr>\n",
       "      <th>936</th>\n",
       "      <td>5.528897</td>\n",
       "      <td>7.000000</td>\n",
       "    </tr>\n",
       "    <tr>\n",
       "      <th>1155</th>\n",
       "      <td>7.040280</td>\n",
       "      <td>17.850000</td>\n",
       "    </tr>\n",
       "    <tr>\n",
       "      <th>1873</th>\n",
       "      <td>8.798599</td>\n",
       "      <td>20.000000</td>\n",
       "    </tr>\n",
       "  </tbody>\n",
       "</table>\n",
       "</div>"
      ],
      "text/plain": [
       "      tom_cri_score  met_cri_score\n",
       "409        4.609457       5.833333\n",
       "837        4.728546      10.616667\n",
       "936        5.528897       7.000000\n",
       "1155       7.040280      17.850000\n",
       "1873       8.798599      20.000000"
      ]
     },
     "execution_count": 133,
     "metadata": {},
     "output_type": "execute_result"
    }
   ],
   "source": [
    "#critic\n",
    "\n",
    "X_train_critic = X_train[['tom_cri_score','met_cri_score']]\n",
    "X_train_critic.head()"
   ]
  },
  {
   "cell_type": "code",
   "execution_count": 134,
   "id": "3bd83b27",
   "metadata": {},
   "outputs": [],
   "source": [
    "cv_results_critic = cross_validate(pipe2, X_train_critic, y_train, cv=5)"
   ]
  },
  {
   "cell_type": "code",
   "execution_count": 141,
   "id": "9ed73c82",
   "metadata": {},
   "outputs": [
    {
     "data": {
      "text/plain": [
       "array([0.25828227, 0.19819849, 0.19484046, 0.31448572, 0.25445115])"
      ]
     },
     "execution_count": 141,
     "metadata": {},
     "output_type": "execute_result"
    }
   ],
   "source": [
    "cv_results_critic['test_score']"
   ]
  },
  {
   "cell_type": "code",
   "execution_count": 136,
   "id": "75653aa1",
   "metadata": {},
   "outputs": [
    {
     "data": {
      "text/plain": [
       "(0.24405161844875184, 0.04426256318025201)"
      ]
     },
     "execution_count": 136,
     "metadata": {},
     "output_type": "execute_result"
    }
   ],
   "source": [
    "np.mean(cv_results_critic['test_score']), np.std(cv_results_critic['test_score'])"
   ]
  },
  {
   "cell_type": "code",
   "execution_count": 153,
   "id": "f493222a",
   "metadata": {},
   "outputs": [
    {
     "data": {
      "text/plain": [
       "-77179650.33150293"
      ]
     },
     "execution_count": 153,
     "metadata": {},
     "output_type": "execute_result"
    }
   ],
   "source": [
    "mae_critic = cross_val_score(pipe2, X_train_critic, y_train, cv=5,scoring='neg_mean_absolute_error')\n",
    "np.mean(mae_critic)"
   ]
  },
  {
   "cell_type": "code",
   "execution_count": 137,
   "id": "017c6fd9",
   "metadata": {},
   "outputs": [
    {
     "data": {
      "text/html": [
       "<div>\n",
       "<style scoped>\n",
       "    .dataframe tbody tr th:only-of-type {\n",
       "        vertical-align: middle;\n",
       "    }\n",
       "\n",
       "    .dataframe tbody tr th {\n",
       "        vertical-align: top;\n",
       "    }\n",
       "\n",
       "    .dataframe thead th {\n",
       "        text-align: right;\n",
       "    }\n",
       "</style>\n",
       "<table border=\"1\" class=\"dataframe\">\n",
       "  <thead>\n",
       "    <tr style=\"text-align: right;\">\n",
       "      <th></th>\n",
       "      <th>tom_cri_score</th>\n",
       "      <th>tom_aud_score</th>\n",
       "      <th>met_aud_score</th>\n",
       "      <th>imdb_score</th>\n",
       "      <th>imdb_us_score</th>\n",
       "      <th>imdb_fem_score</th>\n",
       "    </tr>\n",
       "  </thead>\n",
       "  <tbody>\n",
       "    <tr>\n",
       "      <th>409</th>\n",
       "      <td>4.609457</td>\n",
       "      <td>0.008060</td>\n",
       "      <td>0.198276</td>\n",
       "      <td>0.465330</td>\n",
       "      <td>0.559373</td>\n",
       "      <td>0.326985</td>\n",
       "    </tr>\n",
       "    <tr>\n",
       "      <th>837</th>\n",
       "      <td>4.728546</td>\n",
       "      <td>0.001306</td>\n",
       "      <td>0.063853</td>\n",
       "      <td>0.005592</td>\n",
       "      <td>0.022488</td>\n",
       "      <td>0.002129</td>\n",
       "    </tr>\n",
       "    <tr>\n",
       "      <th>936</th>\n",
       "      <td>5.528897</td>\n",
       "      <td>0.003169</td>\n",
       "      <td>0.069767</td>\n",
       "      <td>0.088650</td>\n",
       "      <td>0.170548</td>\n",
       "      <td>0.068022</td>\n",
       "    </tr>\n",
       "    <tr>\n",
       "      <th>1155</th>\n",
       "      <td>7.040280</td>\n",
       "      <td>0.001348</td>\n",
       "      <td>0.091419</td>\n",
       "      <td>0.143119</td>\n",
       "      <td>0.135088</td>\n",
       "      <td>0.108062</td>\n",
       "    </tr>\n",
       "    <tr>\n",
       "      <th>1873</th>\n",
       "      <td>8.798599</td>\n",
       "      <td>0.902951</td>\n",
       "      <td>0.972534</td>\n",
       "      <td>4.719027</td>\n",
       "      <td>4.780446</td>\n",
       "      <td>4.705971</td>\n",
       "    </tr>\n",
       "  </tbody>\n",
       "</table>\n",
       "</div>"
      ],
      "text/plain": [
       "      tom_cri_score  tom_aud_score  met_aud_score  imdb_score  imdb_us_score  \\\n",
       "409        4.609457       0.008060       0.198276    0.465330       0.559373   \n",
       "837        4.728546       0.001306       0.063853    0.005592       0.022488   \n",
       "936        5.528897       0.003169       0.069767    0.088650       0.170548   \n",
       "1155       7.040280       0.001348       0.091419    0.143119       0.135088   \n",
       "1873       8.798599       0.902951       0.972534    4.719027       4.780446   \n",
       "\n",
       "      imdb_fem_score  \n",
       "409         0.326985  \n",
       "837         0.002129  \n",
       "936         0.068022  \n",
       "1155        0.108062  \n",
       "1873        4.705971  "
      ]
     },
     "execution_count": 137,
     "metadata": {},
     "output_type": "execute_result"
    }
   ],
   "source": [
    "#audience\n",
    "X_train_audience = X_train[['tom_cri_score','tom_aud_score','met_aud_score', 'imdb_score','imdb_us_score','imdb_fem_score' ]]\n",
    "X_train_audience.head()"
   ]
  },
  {
   "cell_type": "code",
   "execution_count": 138,
   "id": "3d1195ed",
   "metadata": {},
   "outputs": [],
   "source": [
    "cv_results_audience = cross_validate(pipe2, X_train_audience, y_train, cv=5)"
   ]
  },
  {
   "cell_type": "code",
   "execution_count": 140,
   "id": "0fb02592",
   "metadata": {},
   "outputs": [
    {
     "data": {
      "text/plain": [
       "array([0.58343911, 0.17168794, 0.40638388, 0.54832766, 0.50821981])"
      ]
     },
     "execution_count": 140,
     "metadata": {},
     "output_type": "execute_result"
    }
   ],
   "source": [
    "cv_results_audience['test_score']"
   ]
  },
  {
   "cell_type": "code",
   "execution_count": 139,
   "id": "56be94fa",
   "metadata": {},
   "outputs": [
    {
     "data": {
      "text/plain": [
       "(0.4436116811185505, 0.1483373108440296)"
      ]
     },
     "execution_count": 139,
     "metadata": {},
     "output_type": "execute_result"
    }
   ],
   "source": [
    "np.mean(cv_results_audience['test_score']), np.std(cv_results_audience['test_score'])"
   ]
  },
  {
   "cell_type": "code",
   "execution_count": 154,
   "id": "f25baa42",
   "metadata": {},
   "outputs": [
    {
     "data": {
      "text/plain": [
       "-56921733.78146763"
      ]
     },
     "execution_count": 154,
     "metadata": {},
     "output_type": "execute_result"
    }
   ],
   "source": [
    "mae_audience = cross_val_score(pipe2, X_train_audience, y_train, cv=5,scoring='neg_mean_absolute_error')\n",
    "np.mean(mae_audience)"
   ]
  },
  {
   "cell_type": "markdown",
   "id": "95e2b261",
   "metadata": {},
   "source": [
    "### Random Forest"
   ]
  },
  {
   "cell_type": "code",
   "execution_count": 175,
   "id": "d8737bac",
   "metadata": {},
   "outputs": [],
   "source": [
    "pipe3 = make_pipeline(\n",
    "    StandardScaler(),\n",
    "    RandomForestRegressor(random_state=47)\n",
    ")"
   ]
  },
  {
   "cell_type": "code",
   "execution_count": 201,
   "id": "d9b33390",
   "metadata": {},
   "outputs": [
    {
     "data": {
      "text/plain": [
       "{'standardscaler': [StandardScaler(), None],\n",
       " 'randomforestregressor__n_estimators': [10,\n",
       "  12,\n",
       "  16,\n",
       "  20,\n",
       "  26,\n",
       "  33,\n",
       "  42,\n",
       "  54,\n",
       "  69,\n",
       "  88,\n",
       "  112,\n",
       "  143,\n",
       "  183,\n",
       "  233,\n",
       "  297,\n",
       "  379,\n",
       "  483,\n",
       "  615,\n",
       "  784,\n",
       "  1000],\n",
       " 'randomforestregressor__max_depth': [10,\n",
       "  20,\n",
       "  30,\n",
       "  40,\n",
       "  50,\n",
       "  60,\n",
       "  70,\n",
       "  80,\n",
       "  90,\n",
       "  100,\n",
       "  110,\n",
       "  None]}"
      ]
     },
     "execution_count": 201,
     "metadata": {},
     "output_type": "execute_result"
    }
   ],
   "source": [
    "n_estimators = [int(x) for x in np.logspace(start = 1, stop = 3, num = 20)]\n",
    "max_features = ['auto', 'sqrt']\n",
    "max_depth = [int(x) for x in np.linspace(10, 110, num = 11)]\n",
    "max_depth.append(None)\n",
    "\n",
    "random_grid = {'standardscaler':[StandardScaler(),None],\n",
    "               'randomforestregressor__n_estimators': n_estimators,\n",
    "            'randomforestregressor__max_depth': max_depth,\n",
    "            }\n",
    "random_grid"
   ]
  },
  {
   "cell_type": "code",
   "execution_count": 202,
   "id": "d4e86bea",
   "metadata": {},
   "outputs": [],
   "source": [
    "rf_grid_cv = GridSearchCV(pipe3, param_grid=random_grid, cv=5, n_jobs=-1)"
   ]
  },
  {
   "cell_type": "code",
   "execution_count": 203,
   "id": "e764f379",
   "metadata": {},
   "outputs": [
    {
     "data": {
      "text/plain": [
       "dict_keys(['memory', 'steps', 'verbose', 'standardscaler', 'randomforestregressor', 'standardscaler__copy', 'standardscaler__with_mean', 'standardscaler__with_std', 'randomforestregressor__bootstrap', 'randomforestregressor__ccp_alpha', 'randomforestregressor__criterion', 'randomforestregressor__max_depth', 'randomforestregressor__max_features', 'randomforestregressor__max_leaf_nodes', 'randomforestregressor__max_samples', 'randomforestregressor__min_impurity_decrease', 'randomforestregressor__min_impurity_split', 'randomforestregressor__min_samples_leaf', 'randomforestregressor__min_samples_split', 'randomforestregressor__min_weight_fraction_leaf', 'randomforestregressor__n_estimators', 'randomforestregressor__n_jobs', 'randomforestregressor__oob_score', 'randomforestregressor__random_state', 'randomforestregressor__verbose', 'randomforestregressor__warm_start'])"
      ]
     },
     "execution_count": 203,
     "metadata": {},
     "output_type": "execute_result"
    }
   ],
   "source": [
    "pipe3.get_params().keys()"
   ]
  },
  {
   "cell_type": "code",
   "execution_count": 204,
   "id": "e39794ab",
   "metadata": {},
   "outputs": [
    {
     "data": {
      "text/plain": [
       "GridSearchCV(cv=5,\n",
       "             estimator=Pipeline(steps=[('standardscaler', StandardScaler()),\n",
       "                                       ('randomforestregressor',\n",
       "                                        RandomForestRegressor(random_state=47))]),\n",
       "             n_jobs=-1,\n",
       "             param_grid={'randomforestregressor__max_depth': [10, 20, 30, 40,\n",
       "                                                              50, 60, 70, 80,\n",
       "                                                              90, 100, 110,\n",
       "                                                              None],\n",
       "                         'randomforestregressor__n_estimators': [10, 12, 16, 20,\n",
       "                                                                 26, 33, 42, 54,\n",
       "                                                                 69, 88, 112,\n",
       "                                                                 143, 183, 233,\n",
       "                                                                 297, 379, 483,\n",
       "                                                                 615, 784,\n",
       "                                                                 1000],\n",
       "                         'standardscaler': [StandardScaler(), None]})"
      ]
     },
     "execution_count": 204,
     "metadata": {},
     "output_type": "execute_result"
    }
   ],
   "source": [
    "rf_grid_cv.fit(X_train, y_train)"
   ]
  },
  {
   "cell_type": "code",
   "execution_count": 205,
   "id": "7bd9306a",
   "metadata": {},
   "outputs": [
    {
     "data": {
      "text/plain": [
       "{'randomforestregressor__max_depth': 40,\n",
       " 'randomforestregressor__n_estimators': 69,\n",
       " 'standardscaler': StandardScaler()}"
      ]
     },
     "execution_count": 205,
     "metadata": {},
     "output_type": "execute_result"
    }
   ],
   "source": [
    "rf_grid_cv.best_params_"
   ]
  },
  {
   "cell_type": "code",
   "execution_count": 206,
   "id": "73694c62",
   "metadata": {},
   "outputs": [
    {
     "data": {
      "image/png": "[encoded data removed]",
      "text/plain": [
       "<Figure size 720x360 with 1 Axes>"
      ]
     },
     "metadata": {
      "needs_background": "light"
     },
     "output_type": "display_data"
    }
   ],
   "source": [
    "plt.subplots(figsize=(10, 5))\n",
    "imps = rf_grid_cv.best_estimator_.named_steps.randomforestregressor.feature_importances_\n",
    "rf_feat_imps = pd.Series(imps, index=X_train.columns).sort_values(ascending=False)\n",
    "rf_feat_imps.plot(kind='bar')\n",
    "plt.xlabel('features')\n",
    "plt.ylabel('importance')\n",
    "plt.title('Best random forest regressor feature importances');"
   ]
  },
  {
   "cell_type": "code",
   "execution_count": 207,
   "id": "6774372b",
   "metadata": {},
   "outputs": [
    {
     "data": {
      "text/plain": [
       "array([0.66867008, 0.39470213, 0.47706725, 0.58903248, 0.58531492])"
      ]
     },
     "execution_count": 207,
     "metadata": {},
     "output_type": "execute_result"
    }
   ],
   "source": [
    "rf_best_cv_results = cross_validate(rf_grid_cv.best_estimator_, X_train, y_train, cv=5)\n",
    "rf_best_scores = rf_best_cv_results['test_score']\n",
    "rf_best_scores"
   ]
  },
  {
   "cell_type": "code",
   "execution_count": 208,
   "id": "e6cccf9c",
   "metadata": {},
   "outputs": [
    {
     "data": {
      "text/plain": [
       "(0.5429573720876831, 0.09596029057486091)"
      ]
     },
     "execution_count": 208,
     "metadata": {},
     "output_type": "execute_result"
    }
   ],
   "source": [
    "np.mean(rf_best_scores), np.std(rf_best_scores)"
   ]
  },
  {
   "cell_type": "code",
   "execution_count": 209,
   "id": "5fde300c",
   "metadata": {},
   "outputs": [
    {
     "data": {
      "text/plain": [
       "-48069027.26362361"
      ]
     },
     "execution_count": 209,
     "metadata": {},
     "output_type": "execute_result"
    }
   ],
   "source": [
    "rf_mae = cross_val_score(rf_grid_cv.best_estimator_, X_train, y_train, cv=5,scoring='neg_mean_absolute_error')\n",
    "np.mean(rf_mae)"
   ]
  },
  {
   "cell_type": "markdown",
   "id": "ece5b454",
   "metadata": {},
   "source": [
    "### Random Forest on split data Critics vs Audience"
   ]
  },
  {
   "cell_type": "code",
   "execution_count": 214,
   "id": "9706fae2",
   "metadata": {},
   "outputs": [],
   "source": [
    "pipe4 = make_pipeline(\n",
    "    StandardScaler(),\n",
    "    RandomForestRegressor(max_depth=40,n_estimators=60,random_state=47)\n",
    ")"
   ]
  },
  {
   "cell_type": "code",
   "execution_count": 215,
   "id": "679a1448",
   "metadata": {},
   "outputs": [],
   "source": [
    "#critic\n",
    "rf_cv_results_critic = cross_validate(pipe4, X_train_critic, y_train, cv=5)"
   ]
  },
  {
   "cell_type": "code",
   "execution_count": 216,
   "id": "39885c33",
   "metadata": {},
   "outputs": [
    {
     "data": {
      "text/plain": [
       "array([0.13324767, 0.00391699, 0.10897595, 0.17450515, 0.248404  ])"
      ]
     },
     "execution_count": 216,
     "metadata": {},
     "output_type": "execute_result"
    }
   ],
   "source": [
    "rf_cv_results_critic['test_score']"
   ]
  },
  {
   "cell_type": "code",
   "execution_count": 217,
   "id": "7603cfc2",
   "metadata": {},
   "outputs": [
    {
     "data": {
      "text/plain": [
       "(0.1338099538341732, 0.0803456529497686)"
      ]
     },
     "execution_count": 217,
     "metadata": {},
     "output_type": "execute_result"
    }
   ],
   "source": [
    "np.mean(rf_cv_results_critic['test_score']),np.std(rf_cv_results_critic['test_score'])"
   ]
  },
  {
   "cell_type": "code",
   "execution_count": 218,
   "id": "a44101d2",
   "metadata": {},
   "outputs": [
    {
     "data": {
      "text/plain": [
       "-76594019.66003194"
      ]
     },
     "execution_count": 218,
     "metadata": {},
     "output_type": "execute_result"
    }
   ],
   "source": [
    "rf_mae_critic = cross_val_score(pipe4, X_train_critic, y_train, cv=5,scoring='neg_mean_absolute_error')\n",
    "np.mean(rf_mae_critic)"
   ]
  },
  {
   "cell_type": "code",
   "execution_count": 219,
   "id": "0f752b7b",
   "metadata": {},
   "outputs": [],
   "source": [
    "#audience\n",
    "rf_cv_results_audience = cross_validate(pipe4, X_train_audience, y_train, cv=5)"
   ]
  },
  {
   "cell_type": "code",
   "execution_count": 220,
   "id": "822f5e62",
   "metadata": {},
   "outputs": [
    {
     "data": {
      "text/plain": [
       "array([0.60761909, 0.3445236 , 0.41526369, 0.5536897 , 0.55118304])"
      ]
     },
     "execution_count": 220,
     "metadata": {},
     "output_type": "execute_result"
    }
   ],
   "source": [
    "rf_cv_results_audience['test_score']"
   ]
  },
  {
   "cell_type": "code",
   "execution_count": 221,
   "id": "bab4f7a1",
   "metadata": {},
   "outputs": [
    {
     "data": {
      "text/plain": [
       "(0.49445582446596903, 0.098268633181306)"
      ]
     },
     "execution_count": 221,
     "metadata": {},
     "output_type": "execute_result"
    }
   ],
   "source": [
    "np.mean(rf_cv_results_audience['test_score']),np.std(rf_cv_results_audience['test_score'])"
   ]
  },
  {
   "cell_type": "code",
   "execution_count": 222,
   "id": "f5ed92c4",
   "metadata": {},
   "outputs": [
    {
     "data": {
      "text/plain": [
       "-49857546.88654548"
      ]
     },
     "execution_count": 222,
     "metadata": {},
     "output_type": "execute_result"
    }
   ],
   "source": [
    "rf_mae_audience = cross_val_score(pipe4, X_train_audience, y_train, cv=5,scoring='neg_mean_absolute_error')\n",
    "np.mean(rf_mae_audience)"
   ]
  },
  {
   "cell_type": "code",
   "execution_count": 289,
   "id": "44c14df1",
   "metadata": {},
   "outputs": [],
   "source": [
    "X_train_blockbuster = pd.concat([X_train,movie_class],axis = 1).dropna()\n",
    "y_train_blockbuster = pd.concat([y_train,movie_class],axis = 1).dropna()"
   ]
  },
  {
   "cell_type": "code",
   "execution_count": 290,
   "id": "6d769769",
   "metadata": {},
   "outputs": [],
   "source": [
    "X_train_blockbuster = X_train_blockbuster[X_train_blockbuster['class'] == 'Blockbuster']\n",
    "y_train_blockbuster = y_train_blockbuster[y_train_blockbuster['class'] == 'Blockbuster']\n"
   ]
  },
  {
   "cell_type": "code",
   "execution_count": 291,
   "id": "7d0f79b4",
   "metadata": {},
   "outputs": [],
   "source": [
    "X_train_blockbuster = X_train_blockbuster.drop(columns=('class'))\n",
    "y_train_blockbuster = y_train_blockbuster.drop(columns=('class'))\n"
   ]
  },
  {
   "cell_type": "code",
   "execution_count": 292,
   "id": "4627a073",
   "metadata": {},
   "outputs": [
    {
     "data": {
      "text/plain": [
       "((84, 7), (84, 1))"
      ]
     },
     "execution_count": 292,
     "metadata": {},
     "output_type": "execute_result"
    }
   ],
   "source": [
    "X_train_blockbuster.shape,y_train_blockbuster.shape"
   ]
  },
  {
   "cell_type": "code",
   "execution_count": 293,
   "id": "993b2f15",
   "metadata": {},
   "outputs": [],
   "source": [
    "rf_cv_results_blockbuster = cross_validate(pipe4, X_train_blockbuster, y_train_blockbuster.values.ravel(), cv=5)"
   ]
  },
  {
   "cell_type": "code",
   "execution_count": 294,
   "id": "8e6bf7fb",
   "metadata": {},
   "outputs": [
    {
     "data": {
      "text/plain": [
       "array([ 0.11486039, -0.28471819, -2.10781199, -3.56877444,  0.1853088 ])"
      ]
     },
     "execution_count": 294,
     "metadata": {},
     "output_type": "execute_result"
    }
   ],
   "source": [
    "rf_cv_results_blockbuster['test_score']"
   ]
  },
  {
   "cell_type": "code",
   "execution_count": 295,
   "id": "ef70de26",
   "metadata": {},
   "outputs": [
    {
     "data": {
      "text/plain": [
       "-285632713.34547794"
      ]
     },
     "execution_count": 295,
     "metadata": {},
     "output_type": "execute_result"
    }
   ],
   "source": [
    "rf_mae_blockbuster = cross_val_score(pipe4, X_train_blockbuster, y_train_blockbuster.values.ravel(), cv=5,scoring='neg_mean_absolute_error')\n",
    "np.mean(rf_mae_blockbuster)"
   ]
  },
  {
   "cell_type": "code",
   "execution_count": null,
   "id": "fa444afe",
   "metadata": {},
   "outputs": [],
   "source": []
  }
 ],
 "metadata": {
  "kernelspec": {
   "display_name": "Python 3",
   "language": "python",
   "name": "python3"
  },
  "language_info": {
   "codemirror_mode": {
    "name": "ipython",
    "version": 3
   },
   "file_extension": ".py",
   "mimetype": "text/x-python",
   "name": "python",
   "nbconvert_exporter": "python",
   "pygments_lexer": "ipython3",
   "version": "3.8.8"
  }
 },
 "nbformat": 4,
 "nbformat_minor": 5
}
