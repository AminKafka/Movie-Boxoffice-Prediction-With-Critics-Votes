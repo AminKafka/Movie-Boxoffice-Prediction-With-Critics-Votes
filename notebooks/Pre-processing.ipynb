{
 "cells": [
  {
   "cell_type": "markdown",
   "id": "1a07e4db",
   "metadata": {},
   "source": [
    "# Pre-processing & Training Data Development :"
   ]
  },
  {
   "cell_type": "code",
   "execution_count": 34,
   "id": "ff834078",
   "metadata": {},
   "outputs": [],
   "source": [
    "import pandas as pd\n",
    "import numpy as np\n",
    "import matplotlib.pyplot as plt\n",
    "import seaborn as sns\n",
    "from sklearn.model_selection import train_test_split, cross_validate, GridSearchCV\n",
    "from sklearn.linear_model import LinearRegression\n",
    "from sklearn.metrics import r2_score, mean_squared_error, mean_absolute_error\n",
    "import sklearn.metrics as metrics"
   ]
  },
  {
   "cell_type": "code",
   "execution_count": 10,
   "id": "43cf1f83",
   "metadata": {},
   "outputs": [],
   "source": [
    "movie_score = pd.read_csv('/Users/Amin/Documents/GitHub/Movie_boxoffice_reviews/data/processed/pre_process_db.csv')"
   ]
  },
  {
   "cell_type": "code",
   "execution_count": 11,
   "id": "b6f0a6e0",
   "metadata": {},
   "outputs": [
    {
     "data": {
      "text/html": [
       "<div>\n",
       "<style scoped>\n",
       "    .dataframe tbody tr th:only-of-type {\n",
       "        vertical-align: middle;\n",
       "    }\n",
       "\n",
       "    .dataframe tbody tr th {\n",
       "        vertical-align: top;\n",
       "    }\n",
       "\n",
       "    .dataframe thead th {\n",
       "        text-align: right;\n",
       "    }\n",
       "</style>\n",
       "<table border=\"1\" class=\"dataframe\">\n",
       "  <thead>\n",
       "    <tr style=\"text-align: right;\">\n",
       "      <th></th>\n",
       "      <th>All_time_gross</th>\n",
       "      <th>tom_cri_score</th>\n",
       "      <th>tom_aud_score</th>\n",
       "      <th>met_cri_score</th>\n",
       "      <th>met_aud_score</th>\n",
       "      <th>imdb_score</th>\n",
       "      <th>imdb_us_score</th>\n",
       "      <th>imdb_fem_score</th>\n",
       "      <th>class</th>\n",
       "    </tr>\n",
       "  </thead>\n",
       "  <tbody>\n",
       "    <tr>\n",
       "      <th>0</th>\n",
       "      <td>62832209</td>\n",
       "      <td>11.180385</td>\n",
       "      <td>0.248638</td>\n",
       "      <td>28.000000</td>\n",
       "      <td>0.536788</td>\n",
       "      <td>2.064492</td>\n",
       "      <td>1.947460</td>\n",
       "      <td>3.230484</td>\n",
       "      <td>Average</td>\n",
       "    </tr>\n",
       "    <tr>\n",
       "      <th>1</th>\n",
       "      <td>428028233</td>\n",
       "      <td>24.294221</td>\n",
       "      <td>0.290463</td>\n",
       "      <td>33.000000</td>\n",
       "      <td>1.651263</td>\n",
       "      <td>4.196134</td>\n",
       "      <td>4.240490</td>\n",
       "      <td>3.140899</td>\n",
       "      <td>Average</td>\n",
       "    </tr>\n",
       "    <tr>\n",
       "      <th>2</th>\n",
       "      <td>225973340</td>\n",
       "      <td>24.462347</td>\n",
       "      <td>0.620494</td>\n",
       "      <td>36.550000</td>\n",
       "      <td>4.073777</td>\n",
       "      <td>5.110510</td>\n",
       "      <td>4.514100</td>\n",
       "      <td>4.154062</td>\n",
       "      <td>Average</td>\n",
       "    </tr>\n",
       "    <tr>\n",
       "      <th>3</th>\n",
       "      <td>42213</td>\n",
       "      <td>1.821366</td>\n",
       "      <td>0.002707</td>\n",
       "      <td>4.783333</td>\n",
       "      <td>0.025261</td>\n",
       "      <td>0.051761</td>\n",
       "      <td>0.079159</td>\n",
       "      <td>0.053576</td>\n",
       "      <td>Indie</td>\n",
       "    </tr>\n",
       "    <tr>\n",
       "      <th>4</th>\n",
       "      <td>880166924</td>\n",
       "      <td>62.353765</td>\n",
       "      <td>3.963631</td>\n",
       "      <td>59.616667</td>\n",
       "      <td>17.351644</td>\n",
       "      <td>18.251734</td>\n",
       "      <td>17.747966</td>\n",
       "      <td>13.584817</td>\n",
       "      <td>Blockbuster</td>\n",
       "    </tr>\n",
       "  </tbody>\n",
       "</table>\n",
       "</div>"
      ],
      "text/plain": [
       "   All_time_gross  tom_cri_score  tom_aud_score  met_cri_score  met_aud_score  \\\n",
       "0        62832209      11.180385       0.248638      28.000000       0.536788   \n",
       "1       428028233      24.294221       0.290463      33.000000       1.651263   \n",
       "2       225973340      24.462347       0.620494      36.550000       4.073777   \n",
       "3           42213       1.821366       0.002707       4.783333       0.025261   \n",
       "4       880166924      62.353765       3.963631      59.616667      17.351644   \n",
       "\n",
       "   imdb_score  imdb_us_score  imdb_fem_score        class  \n",
       "0    2.064492       1.947460        3.230484      Average  \n",
       "1    4.196134       4.240490        3.140899      Average  \n",
       "2    5.110510       4.514100        4.154062      Average  \n",
       "3    0.051761       0.079159        0.053576        Indie  \n",
       "4   18.251734      17.747966       13.584817  Blockbuster  "
      ]
     },
     "execution_count": 11,
     "metadata": {},
     "output_type": "execute_result"
    }
   ],
   "source": [
    "movie_score.head()"
   ]
  },
  {
   "cell_type": "code",
   "execution_count": 12,
   "id": "1b4e76af",
   "metadata": {},
   "outputs": [
    {
     "data": {
      "text/html": [
       "<div>\n",
       "<style scoped>\n",
       "    .dataframe tbody tr th:only-of-type {\n",
       "        vertical-align: middle;\n",
       "    }\n",
       "\n",
       "    .dataframe tbody tr th {\n",
       "        vertical-align: top;\n",
       "    }\n",
       "\n",
       "    .dataframe thead th {\n",
       "        text-align: right;\n",
       "    }\n",
       "</style>\n",
       "<table border=\"1\" class=\"dataframe\">\n",
       "  <thead>\n",
       "    <tr style=\"text-align: right;\">\n",
       "      <th></th>\n",
       "      <th>count</th>\n",
       "      <th>mean</th>\n",
       "      <th>std</th>\n",
       "      <th>min</th>\n",
       "      <th>25%</th>\n",
       "      <th>50%</th>\n",
       "      <th>75%</th>\n",
       "      <th>max</th>\n",
       "    </tr>\n",
       "  </thead>\n",
       "  <tbody>\n",
       "    <tr>\n",
       "      <th>All_time_gross</th>\n",
       "      <td>3276.0</td>\n",
       "      <td>7.193749e+07</td>\n",
       "      <td>1.885635e+08</td>\n",
       "      <td>177.0</td>\n",
       "      <td>223421.250000</td>\n",
       "      <td>3.471091e+06</td>\n",
       "      <td>4.905136e+07</td>\n",
       "      <td>2.797501e+09</td>\n",
       "    </tr>\n",
       "    <tr>\n",
       "      <th>tom_cri_score</th>\n",
       "      <td>3276.0</td>\n",
       "      <td>1.249701e+01</td>\n",
       "      <td>1.423395e+01</td>\n",
       "      <td>0.0</td>\n",
       "      <td>2.230298</td>\n",
       "      <td>7.021891e+00</td>\n",
       "      <td>1.815762e+01</td>\n",
       "      <td>8.664799e+01</td>\n",
       "    </tr>\n",
       "    <tr>\n",
       "      <th>tom_aud_score</th>\n",
       "      <td>3276.0</td>\n",
       "      <td>8.185137e-01</td>\n",
       "      <td>2.460268e+00</td>\n",
       "      <td>0.0</td>\n",
       "      <td>0.010045</td>\n",
       "      <td>8.998959e-02</td>\n",
       "      <td>6.448805e-01</td>\n",
       "      <td>7.600000e+01</td>\n",
       "    </tr>\n",
       "    <tr>\n",
       "      <th>met_cri_score</th>\n",
       "      <td>3276.0</td>\n",
       "      <td>2.129538e+01</td>\n",
       "      <td>1.727440e+01</td>\n",
       "      <td>0.0</td>\n",
       "      <td>7.066667</td>\n",
       "      <td>1.700000e+01</td>\n",
       "      <td>3.230000e+01</td>\n",
       "      <td>8.800000e+01</td>\n",
       "    </tr>\n",
       "    <tr>\n",
       "      <th>met_aud_score</th>\n",
       "      <td>3276.0</td>\n",
       "      <td>1.350672e+00</td>\n",
       "      <td>3.828720e+00</td>\n",
       "      <td>0.0</td>\n",
       "      <td>0.054531</td>\n",
       "      <td>2.278970e-01</td>\n",
       "      <td>9.817061e-01</td>\n",
       "      <td>6.473937e+01</td>\n",
       "    </tr>\n",
       "    <tr>\n",
       "      <th>imdb_score</th>\n",
       "      <td>3276.0</td>\n",
       "      <td>2.382261e+00</td>\n",
       "      <td>5.223244e+00</td>\n",
       "      <td>0.0</td>\n",
       "      <td>0.102347</td>\n",
       "      <td>4.957343e-01</td>\n",
       "      <td>2.258575e+00</td>\n",
       "      <td>8.800000e+01</td>\n",
       "    </tr>\n",
       "    <tr>\n",
       "      <th>imdb_us_score</th>\n",
       "      <td>3276.0</td>\n",
       "      <td>2.512044e+00</td>\n",
       "      <td>5.139497e+00</td>\n",
       "      <td>0.0</td>\n",
       "      <td>0.137849</td>\n",
       "      <td>5.819906e-01</td>\n",
       "      <td>2.478241e+00</td>\n",
       "      <td>8.700000e+01</td>\n",
       "    </tr>\n",
       "    <tr>\n",
       "      <th>imdb_fem_score</th>\n",
       "      <td>3276.0</td>\n",
       "      <td>2.682522e+00</td>\n",
       "      <td>5.538160e+00</td>\n",
       "      <td>0.0</td>\n",
       "      <td>0.119661</td>\n",
       "      <td>5.900872e-01</td>\n",
       "      <td>2.615517e+00</td>\n",
       "      <td>8.600000e+01</td>\n",
       "    </tr>\n",
       "  </tbody>\n",
       "</table>\n",
       "</div>"
      ],
      "text/plain": [
       "                 count          mean           std    min            25%  \\\n",
       "All_time_gross  3276.0  7.193749e+07  1.885635e+08  177.0  223421.250000   \n",
       "tom_cri_score   3276.0  1.249701e+01  1.423395e+01    0.0       2.230298   \n",
       "tom_aud_score   3276.0  8.185137e-01  2.460268e+00    0.0       0.010045   \n",
       "met_cri_score   3276.0  2.129538e+01  1.727440e+01    0.0       7.066667   \n",
       "met_aud_score   3276.0  1.350672e+00  3.828720e+00    0.0       0.054531   \n",
       "imdb_score      3276.0  2.382261e+00  5.223244e+00    0.0       0.102347   \n",
       "imdb_us_score   3276.0  2.512044e+00  5.139497e+00    0.0       0.137849   \n",
       "imdb_fem_score  3276.0  2.682522e+00  5.538160e+00    0.0       0.119661   \n",
       "\n",
       "                         50%           75%           max  \n",
       "All_time_gross  3.471091e+06  4.905136e+07  2.797501e+09  \n",
       "tom_cri_score   7.021891e+00  1.815762e+01  8.664799e+01  \n",
       "tom_aud_score   8.998959e-02  6.448805e-01  7.600000e+01  \n",
       "met_cri_score   1.700000e+01  3.230000e+01  8.800000e+01  \n",
       "met_aud_score   2.278970e-01  9.817061e-01  6.473937e+01  \n",
       "imdb_score      4.957343e-01  2.258575e+00  8.800000e+01  \n",
       "imdb_us_score   5.819906e-01  2.478241e+00  8.700000e+01  \n",
       "imdb_fem_score  5.900872e-01  2.615517e+00  8.600000e+01  "
      ]
     },
     "execution_count": 12,
     "metadata": {},
     "output_type": "execute_result"
    }
   ],
   "source": [
    "movie_score.describe().T"
   ]
  },
  {
   "cell_type": "code",
   "execution_count": 24,
   "id": "2e875be4",
   "metadata": {},
   "outputs": [],
   "source": [
    "critics_score = movie_score[['All_time_gross','tom_cri_score','met_cri_score']]"
   ]
  },
  {
   "cell_type": "code",
   "execution_count": 25,
   "id": "b9fcfa68",
   "metadata": {},
   "outputs": [],
   "source": [
    "X_train_cri, X_test_cri, y_train_cri, y_test_cri = train_test_split(critics_score.drop(columns='All_time_gross'), \n",
    "                                                    critics_score.All_time_gross, test_size=0.3, \n",
    "                                                    random_state=47)"
   ]
  },
  {
   "cell_type": "code",
   "execution_count": 27,
   "id": "b69293b7",
   "metadata": {},
   "outputs": [
    {
     "data": {
      "text/plain": [
       "(2293, 2)"
      ]
     },
     "execution_count": 27,
     "metadata": {},
     "output_type": "execute_result"
    }
   ],
   "source": [
    "X_train_cri.shape"
   ]
  },
  {
   "cell_type": "code",
   "execution_count": 28,
   "id": "294c9756",
   "metadata": {},
   "outputs": [
    {
     "data": {
      "text/plain": [
       "(983, 2)"
      ]
     },
     "execution_count": 28,
     "metadata": {},
     "output_type": "execute_result"
    }
   ],
   "source": [
    "X_test_cri.shape"
   ]
  },
  {
   "cell_type": "code",
   "execution_count": 32,
   "id": "65b26d08",
   "metadata": {},
   "outputs": [],
   "source": [
    "cri_reg_model=LinearRegression()    \n",
    "cri_reg_model.fit(X_train_cri,y_train_cri)\n",
    "y_pred_cri = cri_reg_model.predict(X_test_cri)"
   ]
  },
  {
   "cell_type": "code",
   "execution_count": 37,
   "id": "a0e0bbc0",
   "metadata": {},
   "outputs": [
    {
     "data": {
      "text/plain": [
       "88909722.55953944"
      ]
     },
     "execution_count": 37,
     "metadata": {},
     "output_type": "execute_result"
    }
   ],
   "source": [
    "mean_absolute_error(y_test_cri,y_pred_cri)"
   ]
  },
  {
   "cell_type": "code",
   "execution_count": 38,
   "id": "88b1123b",
   "metadata": {},
   "outputs": [
    {
     "data": {
      "text/plain": [
       "0.2532233225629945"
      ]
     },
     "execution_count": 38,
     "metadata": {},
     "output_type": "execute_result"
    }
   ],
   "source": [
    "r2_score(y_test_cri,y_pred_cri)"
   ]
  },
  {
   "cell_type": "code",
   "execution_count": 39,
   "id": "1b230dc0",
   "metadata": {},
   "outputs": [],
   "source": [
    "audience_score = movie_score[['All_time_gross','tom_aud_score','met_aud_score','imdb_score','imdb_us_score','imdb_fem_score']]\n"
   ]
  },
  {
   "cell_type": "code",
   "execution_count": 40,
   "id": "04911f42",
   "metadata": {},
   "outputs": [],
   "source": [
    "X_train_aud, X_test_aud, y_train_aud, y_test_aud = train_test_split(audience_score.drop(columns='All_time_gross'), \n",
    "                                                    audience_score.All_time_gross, test_size=0.3, \n",
    "                                                    random_state=47)"
   ]
  },
  {
   "cell_type": "code",
   "execution_count": 41,
   "id": "d5c4dbd7",
   "metadata": {},
   "outputs": [],
   "source": [
    "aud_reg_model=LinearRegression()    \n",
    "aud_reg_model.fit(X_train_aud,y_train_aud)\n",
    "y_pred_aud = aud_reg_model.predict(X_test_aud)"
   ]
  },
  {
   "cell_type": "code",
   "execution_count": 42,
   "id": "7e799a28",
   "metadata": {},
   "outputs": [
    {
     "data": {
      "text/plain": [
       "0.5066838813887015"
      ]
     },
     "execution_count": 42,
     "metadata": {},
     "output_type": "execute_result"
    }
   ],
   "source": [
    "r2_score(y_test_aud,y_pred_aud)"
   ]
  },
  {
   "cell_type": "code",
   "execution_count": null,
   "id": "ed5c37d7",
   "metadata": {},
   "outputs": [],
   "source": []
  }
 ],
 "metadata": {
  "kernelspec": {
   "display_name": "Python 3",
   "language": "python",
   "name": "python3"
  },
  "language_info": {
   "codemirror_mode": {
    "name": "ipython",
    "version": 3
   },
   "file_extension": ".py",
   "mimetype": "text/x-python",
   "name": "python",
   "nbconvert_exporter": "python",
   "pygments_lexer": "ipython3",
   "version": "3.8.8"
  }
 },
 "nbformat": 4,
 "nbformat_minor": 5
}
