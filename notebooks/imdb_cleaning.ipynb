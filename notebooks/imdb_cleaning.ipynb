{
 "cells": [
  {
   "cell_type": "code",
   "execution_count": 1,
   "id": "25abe3ac",
   "metadata": {},
   "outputs": [
    {
     "name": "stdout",
     "output_type": "stream",
     "text": [
      "   Unnamed: 0 imdb_title_id  weighted_average_vote  total_votes  mean_vote  \\\n",
      "0       65543     tt2226440                    4.5          294        5.3   \n",
      "1       65547     tt2226597                    6.4        64703        6.6   \n",
      "2       65580     tt2231461                    6.1       137865        6.4   \n",
      "3       65599     tt2233979                    4.9          697        5.5   \n",
      "4       65634     tt2237324                    5.2         3820        5.3   \n",
      "\n",
      "   median_vote  votes_10  votes_9  votes_8  votes_7  ...  date_published  \\\n",
      "0          5.0        61       10       12       20  ...      2018-01-02   \n",
      "1          7.0      4189     3239     9024    18566  ...      2017-11-23   \n",
      "2          6.0     10863     5025    13295    32326  ...      2018-04-12   \n",
      "3          5.0        81       20       40       72  ...      2018-11-02   \n",
      "4          5.0       148      119      160      381  ...      2018-07-25   \n",
      "\n",
      "          director  avg_vote   votes       budget  usa_gross_income  \\\n",
      "0    Royston Innes       4.5     294          $ 0               NaN   \n",
      "1   Hany Abu-Assad       6.4   64703   $ 35000000        $ 30348555   \n",
      "2      Brad Peyton       6.1  137865  $ 120000000       $ 101028233   \n",
      "3  Tommy Bertelsen       4.9     697          NaN               NaN   \n",
      "4    Bobby Moresco       5.2    3820          NaN               NaN   \n",
      "\n",
      "   worlwide_gross_income  metascore  reviews_from_users  reviews_from_critics  \n",
      "0                    NaN        NaN                24.0                   2.0  \n",
      "1             $ 62832209       48.0               333.0                 168.0  \n",
      "2            $ 428028233       45.0               687.0                 326.0  \n",
      "3                    NaN        NaN                30.0                  14.0  \n",
      "4                $ 82247        NaN                58.0                  20.0  \n",
      "\n",
      "[5 rows x 63 columns]\n"
     ]
    }
   ],
   "source": [
    "import pandas as pd\n",
    "\n",
    "\n",
    "imdb = pd.read_csv('/Users/Amin/Documents/GitHub/Movie_boxoffice_reviews/data/interim/IMDB_2019.csv')\n",
    "print (imdb.head())"
   ]
  },
  {
   "cell_type": "code",
   "execution_count": 54,
   "id": "ea435266",
   "metadata": {},
   "outputs": [
    {
     "name": "stdout",
     "output_type": "stream",
     "text": [
      "  imdb_title_id                     title         director  year  \\\n",
      "0     tt2226440                  Dead Men    Royston Innes  2018   \n",
      "1     tt2226597      Il domani tra di noi   Hany Abu-Assad  2017   \n",
      "2     tt2231461    Rampage: Furia animale      Brad Peyton  2018   \n",
      "3     tt2233979                    Beatus  Tommy Bertelsen  2018   \n",
      "4     tt2237324  Bent - Polizia criminale    Bobby Moresco  2018   \n",
      "\n",
      "  date_published  avg_vote  total_votes  us_voters_rating  us_voters_votes  \\\n",
      "0     2018-01-02       4.5          294               5.1             83.0   \n",
      "1     2017-11-23       6.4        64703               6.4           7520.0   \n",
      "2     2018-04-12       6.1       137865               6.1          17163.0   \n",
      "3     2018-11-02       4.9          697               4.9            157.0   \n",
      "4     2018-07-25       5.2         3820               5.4            665.0   \n",
      "\n",
      "   non_us_voters_rating  non_us_voters_votes  females_allages_avg_vote  \\\n",
      "0                   4.2                 94.0                       5.8   \n",
      "1                   6.3              27997.0                       6.7   \n",
      "2                   6.0              54731.0                       6.4   \n",
      "3                   4.8                254.0                       5.0   \n",
      "4                   5.1               1756.0                       5.4   \n",
      "\n",
      "   females_allages_votes  males_allages_avg_vote  males_allages_votes  \n",
      "0                   27.0                     4.3                187.0  \n",
      "1                13462.0                     6.3              35093.0  \n",
      "2                13702.0                     6.0              84286.0  \n",
      "3                  134.0                     4.8                383.0  \n",
      "4                  416.0                     5.2               2576.0  \n"
     ]
    },
    {
     "name": "stderr",
     "output_type": "stream",
     "text": [
      "/opt/anaconda3/lib/python3.8/site-packages/pandas/core/indexing.py:1720: SettingWithCopyWarning: \n",
      "A value is trying to be set on a copy of a slice from a DataFrame.\n",
      "Try using .loc[row_indexer,col_indexer] = value instead\n",
      "\n",
      "See the caveats in the documentation: https://pandas.pydata.org/pandas-docs/stable/user_guide/indexing.html#returning-a-view-versus-a-copy\n",
      "  self._setitem_single_column(loc, value, pi)\n",
      "<ipython-input-54-08678d623dd0>:11: SettingWithCopyWarning: \n",
      "A value is trying to be set on a copy of a slice from a DataFrame\n",
      "\n",
      "See the caveats in the documentation: https://pandas.pydata.org/pandas-docs/stable/user_guide/indexing.html#returning-a-view-versus-a-copy\n",
      "  imdb_clean.dropna(subset = ['director','non_us_voters_rating','non_us_voters_votes'],inplace= True)\n",
      "/opt/anaconda3/lib/python3.8/site-packages/pandas/core/series.py:4463: SettingWithCopyWarning: \n",
      "A value is trying to be set on a copy of a slice from a DataFrame\n",
      "\n",
      "See the caveats in the documentation: https://pandas.pydata.org/pandas-docs/stable/user_guide/indexing.html#returning-a-view-versus-a-copy\n",
      "  return super().fillna(\n"
     ]
    }
   ],
   "source": [
    "imdb_clean = imdb[['imdb_title_id','title','director','year','date_published','avg_vote','total_votes','us_voters_rating','us_voters_votes','non_us_voters_rating','non_us_voters_votes','females_allages_avg_vote','females_allages_votes','males_allages_avg_vote','males_allages_votes']]\n",
    "\n",
    "imdb_clean.loc[1825,'director']='Keitarou Motonaga'\n",
    "imdb_clean.loc[1827,'director']='Keitarou Motonaga'\n",
    "imdb_clean.loc[2248,'director']='Kevin Wayne'\n",
    "imdb_clean.loc[4165,'director']='S. R. Prabhakaran'\n",
    "imdb_clean.loc[5108,'director']='B. Ashok Kumar'\n",
    "imdb_clean.loc[6080,'director']='Masaki Nishiura'\n",
    "imdb_clean.loc[6875,'director']='Michael Pine'\n",
    "imdb_clean.loc[8465,'director']='Baba Yadav'\n",
    "imdb_clean.dropna(subset = ['director','non_us_voters_rating','non_us_voters_votes'],inplace= True)\n",
    "imdb_clean.us_voters_rating.fillna(imdb_clean['avg_vote'], inplace=True)\n",
    "imdb_clean.us_voters_votes.fillna(imdb_clean['total_votes'], inplace=True)\n",
    "imdb_clean.females_allages_avg_vote.fillna(imdb_clean['males_allages_avg_vote'], inplace=True)\n",
    "imdb_clean.females_allages_votes.fillna(imdb_clean['males_allages_votes'], inplace=True)\n",
    "print(imdb_clean.head())\n",
    "\n",
    "imdb_clean.to_csv('/Users/Amin/Documents/GitHub/Movie_boxoffice_reviews/data/interim/IMDB_clean.csv')"
   ]
  },
  {
   "cell_type": "code",
   "execution_count": null,
   "id": "8d8f63ab",
   "metadata": {},
   "outputs": [],
   "source": []
  }
 ],
 "metadata": {
  "kernelspec": {
   "display_name": "Python 3",
   "language": "python",
   "name": "python3"
  },
  "language_info": {
   "codemirror_mode": {
    "name": "ipython",
    "version": 3
   },
   "file_extension": ".py",
   "mimetype": "text/x-python",
   "name": "python",
   "nbconvert_exporter": "python",
   "pygments_lexer": "ipython3",
   "version": "3.8.8"
  }
 },
 "nbformat": 4,
 "nbformat_minor": 5
}
