{
 "cells": [
  {
   "cell_type": "code",
   "execution_count": 45,
   "id": "0d5a0ff1",
   "metadata": {},
   "outputs": [],
   "source": [
    "import pandas as pd\n",
    "\n",
    "imdb = pd.read_csv('/Users/Amin/Documents/GitHub/Movie_boxoffice_reviews/data/interim/IMDB_clean.csv')\n",
    "omdb = pd.read_csv('/Users/Amin/Documents/GitHub/Movie_boxoffice_reviews/data/interim/Omdb_clean.csv')\n",
    "mojo = pd.read_csv('/Users/Amin/Documents/GitHub/Movie_boxoffice_reviews/data/interim/mojo_clean.csv')\n",
    "rotten = pd.read_csv('/Users/Amin/Documents/GitHub/Movie_boxoffice_reviews/data/interim/Rotten_clean.csv')\n",
    "rotten = rotten.rename(columns = {'movie_title':'Title'})\n",
    "\n",
    "\n"
   ]
  },
  {
   "cell_type": "code",
   "execution_count": 26,
   "id": "b708de7f",
   "metadata": {},
   "outputs": [
    {
     "name": "stdout",
     "output_type": "stream",
     "text": [
      "(1100, 16)\n",
      "   Unnamed: 0_x            Title             directors  year_x  \\\n",
      "0          1307  10 Minutes Gone       Brian A. Miller  2019.0   \n",
      "1          1313            10x10            Suzi Ewing  2018.0   \n",
      "2          1867        12 Strong       Nicolai Fuglsig  2018.0   \n",
      "3          1903             1985               Yen Tan  2018.0   \n",
      "4          1919              211  York Alec Shackleton  2018.0   \n",
      "\n",
      "  original_release_date  runtime  tomatometer_rating  tomatometer_count  \\\n",
      "0            2019-09-27     88.0                 0.0                7.0   \n",
      "1            2018-04-13     88.0                67.0                9.0   \n",
      "2            2018-01-19    130.0                50.0              171.0   \n",
      "3            2018-10-26     85.0                96.0               49.0   \n",
      "4            2018-06-08     83.0                 4.0               24.0   \n",
      "\n",
      "   audience_rating  audience_count  Unnamed: 0_y            title  \\\n",
      "0             18.0            84.0         24521  10 Minutes Gone   \n",
      "1             21.0           226.0         32836            10x10   \n",
      "2             62.0          5210.0          2334        12 Strong   \n",
      "3             80.0           273.0         37633             1985   \n",
      "4              9.0           175.0         18408              211   \n",
      "\n",
      "   Worldwide_Lifetime_Gross Domestic_Lifetime_Gross  Foreign_Lifetime_Gross  \\\n",
      "0                    332731                       -                  332731   \n",
      "1                     68260                    2263                   65997   \n",
      "2                  67450815                45819713                21631102   \n",
      "3                     25013                       -                   25013   \n",
      "4                   1052222                       -                 1052222   \n",
      "\n",
      "   year_y  \n",
      "0    2019  \n",
      "1    2018  \n",
      "2    2018  \n",
      "3    2018  \n",
      "4    2018  \n"
     ]
    }
   ],
   "source": [
    "# Merge Rotten Rating with Mojo (box-office data)\n",
    "\n",
    "rotten_mojo = rotten.merge(mojo,left_on='Title',right_on='title',how='inner')\n",
    "print(rotten_mojo.shape)\n",
    "print (rotten_mojo.head())\n"
   ]
  },
  {
   "cell_type": "code",
   "execution_count": 46,
   "id": "1d62bfa0",
   "metadata": {},
   "outputs": [
    {
     "name": "stdout",
     "output_type": "stream",
     "text": [
      "(2418, 21)\n",
      "   Unnamed: 0_x imdb_title_id                   title  \\\n",
      "0             5     tt2238758          Kaufman's Game   \n",
      "1            10     tt2250912  Spider-Man: Homecoming   \n",
      "2            15     tt2274648                 Hellboy   \n",
      "3            16     tt2275629       Cliffs of Freedom   \n",
      "4            17     tt2275743      Berlin, I Love You   \n",
      "\n",
      "                      director  year_x date_published  avg_vote  total_votes  \\\n",
      "0        Helier Bissell-Thomas    2017     2017-11-20       3.0          105   \n",
      "1                    Jon Watts    2017     2017-07-06       7.4       494060   \n",
      "2                Neil Marshall    2019     2019-04-11       5.2        74561   \n",
      "3                     Van Ling    2019     2019-03-22       6.1          339   \n",
      "4  Dianna Agron, Peter Chelsom    2019     2019-08-08       4.6         2310   \n",
      "\n",
      "   us_voters_rating  us_voters_votes  ...  non_us_voters_votes  \\\n",
      "0               3.3             12.0  ...                 49.0   \n",
      "1               7.6          57625.0  ...             172006.0   \n",
      "2               5.2           8595.0  ...              30030.0   \n",
      "3               5.8             52.0  ...                116.0   \n",
      "4               4.6            308.0  ...               1081.0   \n",
      "\n",
      "   females_allages_avg_vote  females_allages_votes  males_allages_avg_vote  \\\n",
      "0                       3.0                    7.0                     2.9   \n",
      "1                       7.6                49874.0                     7.4   \n",
      "2                       5.3                 5520.0                     5.2   \n",
      "3                       6.6                   46.0                     5.7   \n",
      "4                       4.6                  615.0                     4.6   \n",
      "\n",
      "   males_allages_votes  Unnamed: 0_y  Worldwide_Lifetime_Gross  \\\n",
      "0                 73.0         37696                     24694   \n",
      "1             282567.0            66                 880166924   \n",
      "2              47647.0          2692                  55065289   \n",
      "3                194.0         25108                    300842   \n",
      "4               1131.0         28326                    163908   \n",
      "\n",
      "   Domestic_Lifetime_Gross Foreign_Lifetime_Gross  year_y  \n",
      "0                        -                  24694    2018  \n",
      "1                334201140              545965784    2017  \n",
      "2                 21903748               33161541    2019  \n",
      "3                    72476                 228366    2019  \n",
      "4                        -                 163908    2019  \n",
      "\n",
      "[5 rows x 21 columns]\n"
     ]
    }
   ],
   "source": [
    "#Merge Imdb with Mojo\n",
    "\n",
    "imdb_mojo= imdb.merge(mojo,left_on='title',right_on='title',how='inner')\n",
    "print(imdb_mojo.shape)\n",
    "print(imdb_mojo.head())"
   ]
  },
  {
   "cell_type": "code",
   "execution_count": 16,
   "id": "3383abeb",
   "metadata": {},
   "outputs": [
    {
     "name": "stdout",
     "output_type": "stream",
     "text": [
      "(961, 14)\n",
      "   Unnamed: 0_x     imdbID          Title  \\\n",
      "0             4  tt7798634   Ready or Not   \n",
      "1             5  tt7798644   Judy & Punch   \n",
      "2             8  tt7802246  The Last Tree   \n",
      "3            37  tt7734218         Stuber   \n",
      "4            45  tt7778680     Photograph   \n",
      "\n",
      "                               Director  Year     Released  Runtime  \\\n",
      "0  Matt Bettinelli-Olpin, Tyler Gillett  2019  21 Aug 2019   95 min   \n",
      "1                        Mirrah Foulkes  2019  05 Jun 2020  105 min   \n",
      "2                            Shola Amoo  2019  27 Sep 2019   98 min   \n",
      "3                         Michael Dowse  2019  12 Jul 2019   93 min   \n",
      "4                          Ritesh Batra  2019  15 Mar 2019  110 min   \n",
      "\n",
      "   Metascore  Unnamed: 0_y          title  Worldwide_Lifetime_Gross  \\\n",
      "0       64.0          2614   Ready or Not                  57615777   \n",
      "1       59.0         27360   Judy & Punch                    199360   \n",
      "2       67.0         26618  The Last Tree                    228676   \n",
      "3       42.0          3902         Stuber                  32390945   \n",
      "4       65.0         18709     Photograph                    996171   \n",
      "\n",
      "  Domestic_Lifetime_Gross  Foreign_Lifetime_Gross  year  \n",
      "0                28714231                28901546  2019  \n",
      "1                       -                  199360  2019  \n",
      "2                   10128                  218548  2019  \n",
      "3                22370452                10020493  2019  \n",
      "4                  344534                  651637  2019  \n"
     ]
    }
   ],
   "source": [
    "#Merge Omdb (metascore rating) with mojo\n",
    "\n",
    "\n",
    "omdb_mojo= omdb.merge(mojo,left_on='Title',right_on='title',how='inner')\n",
    "print(omdb_mojo.shape)\n",
    "print(omdb_mojo.head())"
   ]
  },
  {
   "cell_type": "code",
   "execution_count": null,
   "id": "336a305a",
   "metadata": {},
   "outputs": [],
   "source": [
    "\n"
   ]
  },
  {
   "cell_type": "code",
   "execution_count": null,
   "id": "c52fe3c1",
   "metadata": {},
   "outputs": [],
   "source": []
  }
 ],
 "metadata": {
  "kernelspec": {
   "display_name": "Python 3",
   "language": "python",
   "name": "python3"
  },
  "language_info": {
   "codemirror_mode": {
    "name": "ipython",
    "version": 3
   },
   "file_extension": ".py",
   "mimetype": "text/x-python",
   "name": "python",
   "nbconvert_exporter": "python",
   "pygments_lexer": "ipython3",
   "version": "3.8.8"
  }
 },
 "nbformat": 4,
 "nbformat_minor": 5
}
